{
 "cells": [
  {
   "attachments": {},
   "cell_type": "markdown",
   "metadata": {},
   "source": [
    "## Table of Contents"
   ]
  },
  {
   "cell_type": "code",
   "execution_count": 1,
   "metadata": {},
   "outputs": [],
   "source": [
    "import numpy as np\n",
    "import matplotlib as mpl\n",
    "import matplotlib.pyplot as plt\n",
    "import sys\n",
    "import time\n",
    "import pandas as pd\n",
    "\n",
    "\n",
    "sys.path.append('/home/class_NI2021/ctxctl_contrib_2023')\n",
    "\n",
    "import samna\n",
    "import samna.dynapse1 as dyn1\n",
    "from dynapse1constants import *\n",
    "import dynapse1utils as ut\n",
    "import netgen as n\n",
    "import params\n",
    "from bias_names import BIAS_NAMES\n",
    "\n",
    "# Display plots inside Jupyter cell\n",
    "%matplotlib inline \n",
    "%config InlineBackend.figure_format = 'retina'\n",
    "\n",
    "# Set the dots-per-inch (resolution) of the images\n",
    "mpl.rcParams['figure.dpi'] = 90\n"
   ]
  },
  {
   "cell_type": "code",
   "execution_count": 2,
   "metadata": {},
   "outputs": [
    {
     "name": "stdout",
     "output_type": "stream",
     "text": [
      "ERROR: Address already in use, please re-run open_device()!\n",
      "[0]:  Bus 1 Device 29 Dynapse1DevKit serial_number 00000027\n",
      "[1]:  Bus 1 Device 27 Dynapse1DevKit serial_number 00000000\n",
      "[2]:  Bus 1 Device 30 Dynapse1DevKit serial_number 00000020\n",
      "[3]:  Bus 1 Device 26 Dynapse1DevKit serial_number 00000011\n",
      "Sender port: tcp://0.0.0.0:16258\n",
      "Receiver port: tcp://0.0.0.0:12457\n",
      "Opened device name: Dynapse1DevKit\n",
      "SamnaNode ID: 1\n",
      "PythonNode ID: 2\n"
     ]
    }
   ],
   "source": [
    "device_name = 'dynpase_test' # pick any name\n",
    "model,no_gui = ut.open_dynapse1(gui=False, sender_port=16258, receiver_port=12457, select_device=True)"
   ]
  },
  {
   "cell_type": "code",
   "execution_count": 5,
   "metadata": {},
   "outputs": [],
   "source": [
    "def organize_results(events, df_spikes=None):\n",
    "    # evts_n = np.array([[evt.timestamp, evt.neuron_id] for evt in events])\n",
    "    timestamp_offset = 0 \n",
    "    if df_spikes is None:\n",
    "        df_spikes = pd.DataFrame()\n",
    "    for evt in events:\n",
    "        if timestamp_offset==0:\n",
    "            timestamp_offset = evt.timestamp\n",
    "        spikeData = dict(chip = evt.chip_id, \n",
    "                        core = evt.core_id,\n",
    "                        neuron_id = evt.neuron_id,\n",
    "                        times =(evt.timestamp-timestamp_offset)* 1e-6)\n",
    "        df_spikes = pd.concat([df_spikes,pd.DataFrame(spikeData,index=[0])])\n",
    "    return df_spikes"
   ]
  },
  {
   "attachments": {},
   "cell_type": "markdown",
   "metadata": {},
   "source": [
    "## Encoding signals with population codes"
   ]
  },
  {
   "attachments": {},
   "cell_type": "markdown",
   "metadata": {},
   "source": [
    "By now, you should be convinced that silicon neurons, like biological neurons, are heterogenous. However, averaging the activity of a population of heterogenous neurons, we can reduce the effect of variability.\n",
    "\n",
    "In this tutorial, we go through different connectivity schemes: feed-forward, recurrent excitation and feedback inhibition. The aim is to highlight how and why we can combine all of them to create an EI network, a very common computational primitive in the brain.\n",
    "\n",
    "This exercise will be mostly hands-free (minimal skeleton code) to get you used to coding from scratch (as will happen with the projects).\n"
   ]
  },
  {
   "attachments": {},
   "cell_type": "markdown",
   "metadata": {},
   "source": [
    " ### Recurrent excitation\n",
    "1. Allocate a cluster (i.e population) of 16 neurons in a single core.\n",
    "2. Stimulate the cluster with a regular spike train of 100 Hz via excitatory synapse (you might want to use NMDA with threshold set to 0).\n",
    "3. Set the network parameters to achive an average firing rate of 20 Hz.\n",
    "\n",
    "4. Sweep over the input frequency and plot FF curve for the population activity."
   ]
  },
  {
   "cell_type": "code",
   "execution_count": 3,
   "metadata": {},
   "outputs": [],
   "source": [
    "emu_dur = 2 # in seconds\n",
    "in_firing_rate = 100 # in hz"
   ]
  },
  {
   "cell_type": "code",
   "execution_count": 15,
   "metadata": {},
   "outputs": [],
   "source": [
    "def generate_reg_sp_train(spikegen_gp, post_chip, rate, duration):\n",
    "    # regular spike times\n",
    "    spike_times = np.linspace(0, duration, duration * rate)\n",
    "    # print(f\"Spike times for a single spike generator ({len(spike_times)}):{spike_times}\")\n",
    "\n",
    "    # get global ids\n",
    "    spgen_gids = ut.get_global_id_list(spikegen_gp.tuple_neuron_ids)\n",
    "\n",
    "    # set spikegen ids global\n",
    "    spike_ids = len(spike_times)* spgen_gids\n",
    "\n",
    "    # set post chip\n",
    "    # post_chip = DPI_neuron.chip_id\n",
    "    target_chips = [post_chip]*len(spike_ids)\n",
    "\n",
    "    return spike_times, spike_ids, target_chips\n",
    "    "
   ]
  },
  {
   "cell_type": "code",
   "execution_count": 25,
   "metadata": {},
   "outputs": [
    {
     "name": "stdout",
     "output_type": "stream",
     "text": [
      "Sanity check config:Post neuron (ChipId,coreId,neuronId): incoming connections [(preNeuron,synapseType), ...]\n",
      "C0c1n24: [('C0c1s0', 'NMDA')]\n",
      "C0c1n30: [('C0c1s0', 'NMDA')]\n",
      "C0c1n27: [('C0c1s0', 'NMDA')]\n",
      "C0c1n25: [('C0c1s0', 'NMDA')]\n",
      "C0c1n21: [('C0c1s0', 'NMDA')]\n",
      "C0c1n20: [('C0c1s0', 'NMDA')]\n",
      "C0c1n17: [('C0c1s0', 'NMDA')]\n",
      "C0c1n31: [('C0c1s0', 'NMDA')]\n",
      "C0c1n16: [('C0c1s0', 'NMDA')]\n",
      "C0c1n28: [('C0c1s0', 'NMDA')]\n",
      "C0c1n22: [('C0c1s0', 'NMDA')]\n",
      "C0c1n18: [('C0c1s0', 'NMDA')]\n",
      "C0c1n23: [('C0c1s0', 'NMDA')]\n",
      "C0c1n26: [('C0c1s0', 'NMDA')]\n",
      "C0c1n19: [('C0c1s0', 'NMDA')]\n",
      "C0c1n29: [('C0c1s0', 'NMDA')]\n",
      "\n"
     ]
    },
    {
     "ename": "TypeError",
     "evalue": "<class 'numpy.int64'> could not be casted to expected type (unsigned short), integer bounds [0,65535]",
     "output_type": "error",
     "traceback": [
      "\u001b[0;31m---------------------------------------------------------------------------\u001b[0m",
      "\u001b[0;31mTypeError\u001b[0m                                 Traceback (most recent call last)",
      "\u001b[0;32m<ipython-input-25-c558d9be87f8>\u001b[0m in \u001b[0;36m<module>\u001b[0;34m\u001b[0m\n\u001b[1;32m    111\u001b[0m \u001b[0;32mfor\u001b[0m \u001b[0mrow\u001b[0m\u001b[0;34m,\u001b[0m \u001b[0mrate\u001b[0m \u001b[0;32min\u001b[0m \u001b[0menumerate\u001b[0m\u001b[0;34m(\u001b[0m\u001b[0mrange\u001b[0m\u001b[0;34m(\u001b[0m\u001b[0;36m1\u001b[0m\u001b[0;34m,\u001b[0m \u001b[0;36m400\u001b[0m\u001b[0;34m,\u001b[0m \u001b[0;36m50\u001b[0m\u001b[0;34m)\u001b[0m\u001b[0;34m)\u001b[0m\u001b[0;34m:\u001b[0m\u001b[0;34m\u001b[0m\u001b[0;34m\u001b[0m\u001b[0m\n\u001b[1;32m    112\u001b[0m     \u001b[0mspike_times\u001b[0m\u001b[0;34m,\u001b[0m \u001b[0mdev_ids\u001b[0m\u001b[0;34m,\u001b[0m \u001b[0mtarget_chips\u001b[0m \u001b[0;34m=\u001b[0m \u001b[0mgenerate_reg_sp_train\u001b[0m\u001b[0;34m(\u001b[0m\u001b[0mspikegen\u001b[0m\u001b[0;34m,\u001b[0m \u001b[0mDPI_neuron\u001b[0m\u001b[0;34m.\u001b[0m\u001b[0mchip_id\u001b[0m\u001b[0;34m,\u001b[0m \u001b[0mrate\u001b[0m\u001b[0;34m,\u001b[0m \u001b[0memu_dur\u001b[0m\u001b[0;34m)\u001b[0m\u001b[0;34m\u001b[0m\u001b[0;34m\u001b[0m\u001b[0m\n\u001b[0;32m--> 113\u001b[0;31m     \u001b[0mut\u001b[0m\u001b[0;34m.\u001b[0m\u001b[0mset_fpga_spike_gen\u001b[0m\u001b[0;34m(\u001b[0m\u001b[0mfpga_spike_gen\u001b[0m\u001b[0;34m,\u001b[0m \u001b[0mspike_times\u001b[0m\u001b[0;34m,\u001b[0m \u001b[0mdev_ids\u001b[0m\u001b[0;34m,\u001b[0m \u001b[0mtarget_chips\u001b[0m\u001b[0;34m,\u001b[0m \u001b[0misi_base\u001b[0m\u001b[0;34m,\u001b[0m \u001b[0mrepeat_mode\u001b[0m\u001b[0;34m)\u001b[0m\u001b[0;34m\u001b[0m\u001b[0;34m\u001b[0m\u001b[0m\n\u001b[0m\u001b[1;32m    114\u001b[0m \u001b[0;34m\u001b[0m\u001b[0m\n\u001b[1;32m    115\u001b[0m     \u001b[0;31m# start gens\u001b[0m\u001b[0;34m\u001b[0m\u001b[0;34m\u001b[0m\u001b[0;34m\u001b[0m\u001b[0m\n",
      "\u001b[0;32m/home/class_NI2021/ctxctl_contrib_2023/dynapse1utils.py\u001b[0m in \u001b[0;36mset_fpga_spike_gen\u001b[0;34m(fpga_spike_gen, spike_times, indices, target_chips, isi_base, repeat_mode)\u001b[0m\n\u001b[1;32m    678\u001b[0m         \u001b[0mfpga_event\u001b[0m\u001b[0;34m.\u001b[0m\u001b[0mtarget_chip\u001b[0m \u001b[0;34m=\u001b[0m \u001b[0mfpga_target_chips\u001b[0m\u001b[0;34m[\u001b[0m\u001b[0midx_isi\u001b[0m\u001b[0;34m]\u001b[0m\u001b[0;34m\u001b[0m\u001b[0;34m\u001b[0m\u001b[0m\n\u001b[1;32m    679\u001b[0m         \u001b[0mfpga_event\u001b[0m\u001b[0;34m.\u001b[0m\u001b[0mneuron_id\u001b[0m \u001b[0;34m=\u001b[0m \u001b[0mfpga_nrn_ids\u001b[0m\u001b[0;34m[\u001b[0m\u001b[0midx_isi\u001b[0m\u001b[0;34m]\u001b[0m\u001b[0;34m\u001b[0m\u001b[0;34m\u001b[0m\u001b[0m\n\u001b[0;32m--> 680\u001b[0;31m         \u001b[0mfpga_event\u001b[0m\u001b[0;34m.\u001b[0m\u001b[0misi\u001b[0m \u001b[0;34m=\u001b[0m \u001b[0misi\u001b[0m\u001b[0;34m\u001b[0m\u001b[0;34m\u001b[0m\u001b[0m\n\u001b[0m\u001b[1;32m    681\u001b[0m         \u001b[0mfpga_events\u001b[0m\u001b[0;34m.\u001b[0m\u001b[0mappend\u001b[0m\u001b[0;34m(\u001b[0m\u001b[0mfpga_event\u001b[0m\u001b[0;34m)\u001b[0m\u001b[0;34m\u001b[0m\u001b[0;34m\u001b[0m\u001b[0m\n\u001b[1;32m    682\u001b[0m \u001b[0;34m\u001b[0m\u001b[0m\n",
      "\u001b[0;31mTypeError\u001b[0m: <class 'numpy.int64'> could not be casted to expected type (unsigned short), integer bounds [0,65535]"
     ]
    }
   ],
   "source": [
    "\n",
    "# set initial (proper) parameters\n",
    "paramGroup = params.gen_clean_param_group()\n",
    "for neu_chip_id in range(4):\n",
    "    for neu_core_id in range(4):\n",
    "        model.update_parameter_group(paramGroup, neu_chip_id, neu_core_id)\n",
    "\n",
    "#-----------------------Network ----------------------------#\n",
    "net_gen = n.NetworkGenerator()\n",
    "# Allocate neurons of excitatory cluster\n",
    "neu_chip_id = 0\n",
    "neu_core_id = 1\n",
    "n_exc = 16\n",
    "neu_ids = np.arange(16, 16 + n_exc,1)\n",
    "\n",
    "DPI_neuron =  n.NeuronGroup(neu_chip_id, neu_core_id, neu_ids)\n",
    "\n",
    "# Allocate spikegen\n",
    "spgen_chip_id = 0\n",
    "spgen_core_id = 1\n",
    "spgen_id = [0]\n",
    "spikegen = n.NeuronGroup(spgen_chip_id ,spgen_core_id,spgen_id,True) \n",
    "\n",
    "\n",
    "# Connect all2all with AMPA synpase\n",
    "syn = n.Synapses(spikegen, DPI_neuron, dyn1.Dynapse1SynType.NMDA, conn_type='all2all')\n",
    "n.add_synapses(net_gen, syn)\n",
    "\n",
    "print(f\"Sanity check config:{net_gen.network}\")\n",
    "\n",
    "# apply configuration\n",
    "current_config = net_gen.make_dynapse1_configuration()\n",
    "model.apply_configuration(current_config)\n",
    "\n",
    "#--------------------Set input spike train ----------------------#\n",
    "\n",
    "# get FPGA spike_gen from model\n",
    "fpga_spike_gen = model.get_fpga_spike_gen()\n",
    "# # regular spike times\n",
    "# spike_times = np.linspace(0, emu_dur, emu_dur *in_firing_rate)\n",
    "# # print(f\"Spike times for a single spike generator ({len(spike_times)}):{spike_times}\")\n",
    "\n",
    "# # get global ids\n",
    "# spgen_gids = ut.get_global_id_list(spikegen.tuple_neuron_ids)\n",
    "\n",
    "# # set spikegen ids global\n",
    "# device_indices = len(spike_times)* spgen_gids\n",
    "\n",
    "# # set post chip\n",
    "# post_chip = DPI_neuron.chip_id\n",
    "# target_chips = [post_chip]*len(device_indices)\n",
    "\n",
    "isi_base = 900\n",
    "repeat_mode = False\n",
    "# spike_times, dev_ids, target_chips = generate_reg_sp_train(spikegen, DPI_neuron.chip_id, in_firing_rate, emu_dur)\n",
    "# ut.set_fpga_spike_gen(fpga_spike_gen, spike_times, dev_ids, target_chips, isi_base, repeat_mode)\n",
    "\n",
    "#-----------------Tune biases-------------------------------------#\n",
    "paramGroup = dyn1.Dynapse1ParameterGroup()\n",
    "    \n",
    "#------------------------AMPA parameters----------------------#\n",
    "# leakage of AMPA\n",
    "paramGroup.param_map[\"NPDPIE_TAU_F_P\"].coarse_value = 7\n",
    "paramGroup.param_map[\"NPDPIE_TAU_F_P\"].fine_value = 255\n",
    "\n",
    "# gain of AMPA\n",
    "paramGroup.param_map[\"NPDPIE_THR_F_P\"].coarse_value = 0\n",
    "paramGroup.param_map[\"NPDPIE_THR_F_P\"].fine_value = 0\n",
    "\n",
    "# weight of AMPA\n",
    "paramGroup.param_map[\"PS_WEIGHT_EXC_F_N\"].coarse_value = 0\n",
    "paramGroup.param_map[\"PS_WEIGHT_EXC_F_N\"].fine_value = 0 \n",
    "\n",
    "#------------------------NMDA parameters----------------------#\n",
    "# first keep NMDA threshold to 0: i.e deactivate (AMPA_like) at coarse 0\n",
    "paramGroup.param_map[\"IF_NMDA_N\"].coarse_value = 0\n",
    "paramGroup.param_map[\"IF_NMDA_N\"].fine_value = 0\n",
    "\n",
    "# Adjust weight of NMDA\n",
    "paramGroup.param_map[\"PS_WEIGHT_EXC_S_N\"].coarse_value = 6 \n",
    "paramGroup.param_map[\"PS_WEIGHT_EXC_S_N\"].fine_value = 100\n",
    "\n",
    "# # NMDA time constant\n",
    "paramGroup.param_map[\"NPDPIE_TAU_S_P\"].coarse_value = 5\n",
    "paramGroup.param_map[\"NPDPIE_TAU_S_P\"].fine_value = 80\n",
    "\n",
    "# NMDA gain\n",
    "paramGroup.param_map[\"NPDPIE_THR_S_P\"].coarse_value = 5\n",
    "paramGroup.param_map[\"NPDPIE_THR_S_P\"].fine_value = 40\n",
    "\n",
    "#--------------------Neuron parameters--------------------------#\n",
    "# Inject current to make neuron fire\n",
    "paramGroup.param_map[\"IF_DC_P\"].coarse_value = 0\n",
    "paramGroup.param_map[\"IF_DC_P\"].fine_value = 0\n",
    "\n",
    "# Reduce neuron leakage\n",
    "paramGroup.param_map[\"IF_TAU1_N\"].coarse_value = 4\n",
    "paramGroup.param_map[\"IF_TAU1_N\"].fine_value = 80\n",
    "\n",
    "\n",
    "\n",
    "model.update_parameter_group(paramGroup, DPI_neuron.chip_id, DPI_neuron.core_id)\n",
    "\n",
    "\n",
    "#--------------------Monitor ----------------------#\n",
    "\n",
    "graph, filter_node, sink_node = ut.create_neuron_select_graph(model, DPI_neuron.tuple_neuron_ids)\n",
    "\n",
    "\n",
    "results_df = pd.DataFrame()\n",
    "ff_df = pd.DataFrame(columns=['in_rate', 'out_rate'])\n",
    "for row, rate in enumerate(range(10, 400, 50)):\n",
    "    spike_times, dev_ids, target_chips = generate_reg_sp_train(spikegen, DPI_neuron.chip_id, rate, emu_dur)\n",
    "    ut.set_fpga_spike_gen(fpga_spike_gen, spike_times, dev_ids, target_chips, isi_base, repeat_mode)\n",
    "    \n",
    "    # start gens\n",
    "    fpga_spike_gen.start()\n",
    "\n",
    "    # Start graph \n",
    "    graph.start()\n",
    "\n",
    "    # Clear buffer\n",
    "    sink_node.get_events()\n",
    "\n",
    "    # get spikes every 2 seconds\n",
    "    time.sleep(emu_dur + 0.5)\n",
    "    events = sink_node.get_events()\n",
    "\n",
    "    # process the events\n",
    "    mean_rate_pop = len(events)/n_exc/(emu_dur+0.5)\n",
    "    print(f\"Events:{len(events)}    Mean rate:{mean_rate_pop} Hz\")\n",
    "\n",
    "    graph.stop()\n",
    "    fpga_spike_gen.stop()\n",
    "\n",
    "    # Organize events\n",
    "    results_df = organize_results(events, results_df)\n",
    "    ff_df.loc[row] = [rate, mean_rate_pop]\n"
   ]
  },
  {
   "cell_type": "code",
   "execution_count": 24,
   "metadata": {},
   "outputs": [
    {
     "data": {
      "text/plain": [
       "(0.0, 60.0)"
      ]
     },
     "execution_count": 24,
     "metadata": {},
     "output_type": "execute_result"
    },
    {
     "data": {
      "image/png": "[encoded data removed]",
      "text/plain": [
       "<Figure size 540x360 with 1 Axes>"
      ]
     },
     "metadata": {
      "image/png": {
       "height": 332,
       "width": 461
      },
      "needs_background": "light"
     },
     "output_type": "display_data"
    }
   ],
   "source": [
    "ff_df.plot(x='in_rate', y='out_rate', kind='line')\n",
    "plt.ylim([0,60])"
   ]
  },
  {
   "cell_type": "code",
   "execution_count": null,
   "metadata": {},
   "outputs": [],
   "source": [
    "# samna.device.close_device(model)"
   ]
  }
 ],
 "metadata": {
  "kernelspec": {
   "display_name": "Python 3",
   "language": "python",
   "name": "python3"
  },
  "language_info": {
   "codemirror_mode": {
    "name": "ipython",
    "version": 3
   },
   "file_extension": ".py",
   "mimetype": "text/x-python",
   "name": "python",
   "nbconvert_exporter": "python",
   "pygments_lexer": "ipython3",
   "version": "3.8.10"
  },
  "orig_nbformat": 4
 },
 "nbformat": 4,
 "nbformat_minor": 2
}
