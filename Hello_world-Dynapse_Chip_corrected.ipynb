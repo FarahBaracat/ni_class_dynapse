{
 "cells": [
  {
   "cell_type": "markdown",
   "metadata": {
    "pycharm": {
     "name": "#%% md\n"
    },
    "toc": true
   },
   "source": [
    "<h1>Table of Contents<span class=\"tocSkip\"></span></h1>\n",
    "<div class=\"toc\"><ul class=\"toc-item\"><li><span><a href=\"#Logistics\" data-toc-modified-id=\"Logistics-1\"><span class=\"toc-item-num\">1&nbsp;&nbsp;</span>Logistics</a></span></li><li><span><a href=\"#Introduction-to-DYNAP-SE\" data-toc-modified-id=\"Introduction-to-DYNAP-SE-2\"><span class=\"toc-item-num\">2&nbsp;&nbsp;</span>Introduction to DYNAP-SE</a></span><ul class=\"toc-item\"><li><span><a href=\"#Import-libraries\" data-toc-modified-id=\"Import-libraries-2.1\"><span class=\"toc-item-num\">2.1&nbsp;&nbsp;</span>Import libraries</a></span></li></ul></li><li><span><a href=\"#Pipeline\" data-toc-modified-id=\"Pipeline-3\"><span class=\"toc-item-num\">3&nbsp;&nbsp;</span>Pipeline</a></span><ul class=\"toc-item\"><li><span><a href=\"#Connecting-with-the-board\" data-toc-modified-id=\"Connecting-with-the-board-3.1\"><span class=\"toc-item-num\">3.1&nbsp;&nbsp;</span>Connecting with the board</a></span></li><li><span><a href=\"#Create-Neuron-and-Neuron-Group\" data-toc-modified-id=\"Create-Neuron-and-Neuron-Group-3.2\"><span class=\"toc-item-num\">3.2&nbsp;&nbsp;</span>Create Neuron and Neuron Group</a></span></li><li><span><a href=\"#Create-Connection\" data-toc-modified-id=\"Create-Connection-3.3\"><span class=\"toc-item-num\">3.3&nbsp;&nbsp;</span>Create Connection</a></span></li><li><span><a href=\"#[IMPORTANT]-Set-configuration-on-chip\" data-toc-modified-id=\"[IMPORTANT]-Set-configuration-on-chip-3.4\"><span class=\"toc-item-num\">3.4&nbsp;&nbsp;</span>[IMPORTANT] Set configuration on chip</a></span></li><li><span><a href=\"#Input-Stimuli\" data-toc-modified-id=\"Input-Stimuli-3.5\"><span class=\"toc-item-num\">3.5&nbsp;&nbsp;</span>Input Stimuli</a></span><ul class=\"toc-item\"><li><span><a href=\"#Spike-Generator\" data-toc-modified-id=\"Spike-Generator-3.5.1\"><span class=\"toc-item-num\">3.5.1&nbsp;&nbsp;</span>Spike Generator</a></span></li><li><span><a href=\"#Poisson-Generator\" data-toc-modified-id=\"Poisson-Generator-3.5.2\"><span class=\"toc-item-num\">3.5.2&nbsp;&nbsp;</span>Poisson Generator</a></span></li></ul></li><li><span><a href=\"#Moniton-Neurons\" data-toc-modified-id=\"Moniton-Neurons-3.6\"><span class=\"toc-item-num\">3.6&nbsp;&nbsp;</span>Moniton Neurons</a></span></li><li><span><a href=\"#Setting-the-Biases\" data-toc-modified-id=\"Setting-the-Biases-3.7\"><span class=\"toc-item-num\">3.7&nbsp;&nbsp;</span>Setting the Biases</a></span></li></ul></li><li><span><a href=\"#Creating-a-network-in-a-&quot;DYNAP-SE1-chip&quot;\" data-toc-modified-id=\"Creating-a-network-in-a-&quot;DYNAP-SE1-chip&quot;-4\"><span class=\"toc-item-num\">4&nbsp;&nbsp;</span>Creating a network in a \"DYNAP-SE1 chip\"</a></span><ul class=\"toc-item\"><li><ul class=\"toc-item\"><li><span><a href=\"#Simulation-with-Poisson-input\" data-toc-modified-id=\"Simulation-with-Poisson-input-4.0.1\"><span class=\"toc-item-num\">4.0.1&nbsp;&nbsp;</span>Simulation with Poisson input</a></span></li></ul></li></ul></li><li><span><a href=\"#NMDA-Synapse\" data-toc-modified-id=\"NMDA-Synapse-5\"><span class=\"toc-item-num\">5&nbsp;&nbsp;</span>NMDA Synapse</a></span></li><li><span><a href=\"#Test-GABA_A-and--GABA_B\" data-toc-modified-id=\"Test-GABA_A-and--GABA_B-6\"><span class=\"toc-item-num\">6&nbsp;&nbsp;</span>Test GABA_A and  GABA_B</a></span></li></ul></div>"
   ]
  },
  {
   "attachments": {},
   "cell_type": "markdown",
   "metadata": {
    "pycharm": {
     "name": "#%% md\n"
    }
   },
   "source": [
    "# 1. Connecting to Zemo through LAN\n",
    "\n",
    "For this lab, there is no need to connect to INI VPN since we will be using a LAN cable directly\n",
    "\n",
    "\n",
    "**Step 1:** From your **local machine** terminal, SSH to Zemo using the username and password sent to you by email:\n",
    "10.65.48.134 is the Zemo's IP address.\n",
    "\n",
    "`ssh -X username@10.65.48.134`\n",
    "\n",
    "\n",
    "**Step 2a:** **On Zemo**, install the correct version of samna:\n",
    "\n",
    "`pip install samna==0.18.0.0`\n",
    "\n",
    "also install pandas: `pip install pandas`\n",
    "\n",
    "**Step 2b:** **On Zemo**, install jupyter \n",
    "*If you are using VSCode, you can setup remote developement via the [Remote-SSH extension](https://code.visualstudio.com/docs/remote/ssh) and work with Jupyter notebooks in VSCode.*\n",
    "\n",
    "**Step 3** **On Zemo**, launch the notebook \n",
    "\n",
    "`jupyter notebook --no-browser --port=8866`\n",
    "\n",
    "\n",
    "**Step 4**: **Back to your loval machine**\n",
    "\n",
    "`ssh -N -f -L 8866:localhost:8866 username@10.65.48.134`\n",
    "\n",
    "\n",
    "**Additional useful commands:**\n",
    "\n",
    "- Map remote directory to local folder: \n",
    "\n",
    "`sshfs username@10.65.48.134:/home/username/dir_name local_directory`\n",
    "\n",
    "- To copy (same PC): `cp -R <source_folder> <destination_folder>`\n",
    "\n",
    "- To copy (from remote to local):\n",
    "\n",
    "`scp username@10.65.48.134:/remote_dir_path/Hello_world.ipynb /local_dir_path/folder_name`\n",
    "\n",
    "- To copy (from local to remote):\n",
    "\n",
    "`scp local_dir_path/Hello_world.ipynb  username@10.65.134:/remote_dir_path/`"
   ]
  },
  {
   "cell_type": "markdown",
   "metadata": {
    "pycharm": {
     "name": "#%% md\n"
    }
   },
   "source": [
    "## Import libraries"
   ]
  },
  {
   "cell_type": "code",
   "execution_count": 1,
   "metadata": {
    "ExecuteTime": {
     "end_time": "2022-04-04T17:13:57.392766Z",
     "start_time": "2022-04-04T17:13:57.155464Z"
    },
    "pycharm": {
     "name": "#%%\n"
    }
   },
   "outputs": [],
   "source": [
    "import numpy as np\n",
    "import matplotlib as mpl\n",
    "import matplotlib.pyplot as plt\n",
    "import sys\n",
    "import time\n",
    "import pandas as pd\n",
    "\n",
    "# Display plots inside Jupyter cell\n",
    "%matplotlib inline \n",
    "%config InlineBackend.figure_format = 'retina'\n",
    "\n",
    "# Set the dots-per-inch (resolution) of the images\n",
    "mpl.rcParams['figure.dpi'] = 90\n",
    "\n",
    "sys.path.append('/home/class_NI2021/ctxctl_contrib_2023')"
   ]
  },
  {
   "cell_type": "markdown",
   "metadata": {
    "pycharm": {
     "name": "#%% md\n"
    }
   },
   "source": [
    "**`Python` wrapper classes implements the DPI neuron, synaptic circuit models and monitors chip resources (e.g., number of available neurons per core, number of synapses between neurons, etc.)**"
   ]
  },
  {
   "cell_type": "code",
   "execution_count": 2,
   "metadata": {
    "ExecuteTime": {
     "end_time": "2022-04-04T17:13:59.484051Z",
     "start_time": "2022-04-04T17:13:57.757863Z"
    },
    "pycharm": {
     "name": "#%%\n"
    }
   },
   "outputs": [],
   "source": [
    "import samna\n",
    "import samna.dynapse1 as dyn1\n",
    "from dynapse1constants import *\n",
    "import dynapse1utils as ut\n",
    "import netgen as n\n",
    "import params\n",
    "from bias_names import BIAS_NAMES"
   ]
  },
  {
   "cell_type": "code",
   "execution_count": 3,
   "metadata": {
    "ExecuteTime": {
     "end_time": "2022-04-04T17:13:59.487405Z",
     "start_time": "2022-04-04T17:13:59.485326Z"
    },
    "pycharm": {
     "name": "#%%\n"
    }
   },
   "outputs": [],
   "source": [
    "class bcolors:\n",
    "    HEADER = '\\033[95m'\n",
    "    OKBLUE = '\\033[94m'\n",
    "    OKGREEN = '\\033[92m'\n",
    "    WARNING = '\\033[93m'\n",
    "    FAIL = '\\033[91m'\n",
    "    ENDC = '\\033[0m'\n",
    "    BOLD = '\\033[1m'\n",
    "    UNDERLINE = '\\033[4m'"
   ]
  },
  {
   "cell_type": "markdown",
   "metadata": {
    "pycharm": {
     "name": "#%% md\n"
    }
   },
   "source": [
    "# Pipeline"
   ]
  },
  {
   "cell_type": "markdown",
   "metadata": {
    "pycharm": {
     "name": "#%% md\n"
    }
   },
   "source": [
    "## Connecting with the board"
   ]
  },
  {
   "attachments": {},
   "cell_type": "markdown",
   "metadata": {
    "pycharm": {
     "name": "#%% md\n"
    }
   },
   "source": [
    "A list of the currently available boards to use:\n",
    "\n",
    "|Board Serial Number|Port to connect to|\n",
    "| :-- | :-- | \n",
    "Device 3 Dynapse1DevKit serial_number 00000001 | sender_port=16344, receiver_port=17245 |\n",
    "Device 13 Dynapse1DevKit serial_number 00000011 | sender_port=17349, receiver_port=15347 |\n",
    "Device 12 Dynapse1DevKit serial_number 00000027 | sender_port=12344, receiver_port=12345 |\n",
    "Device 6 Dynapse1DevKit serial_number 00000020 | sender_port=13923, receiver_port=11992 |\n",
    "Device 4 Dynapse1DevKit serial_number 00000000 | sender_port=16725, receiver_port=11204 |\n",
    "\n",
    "Upon calling `open_dynapse1`, you will prompted to select the device by index. Note that the index of a given board can change each time you re-run, so double check on the board serial_number and use its corresponding index."
   ]
  },
  {
   "cell_type": "code",
   "execution_count": 4,
   "metadata": {
    "collapsed": false,
    "pycharm": {
     "name": "#%%\n"
    }
   },
   "outputs": [
    {
     "name": "stdout",
     "output_type": "stream",
     "text": [
      "[0]:  Bus 1 Device 27 Dynapse1DevKit serial_number 00000000\n",
      "[1]:  Bus 1 Device 24 Dynapse1DevKit serial_number 00000020\n",
      "[2]:  Bus 1 Device 26 Dynapse1DevKit serial_number 00000011\n",
      "Sender port: tcp://0.0.0.0:1620\n",
      "Receiver port: tcp://0.0.0.0:12377\n",
      "Opened device name: Dynapse1DevKit\n",
      "SamnaNode ID: 1\n",
      "PythonNode ID: 2\n"
     ]
    }
   ],
   "source": [
    "# open DYNAP-SE1 board to get Dynapse1Model. Use the index specified on the leftmostside to select a device\n",
    "device_name = 'dynpase_test' # pick any name\n",
    "model,no_gui = ut.open_dynapse1(gui=False, sender_port=1620, receiver_port=12377, select_device=True) # returns Dynapse1Model"
   ]
  },
  {
   "cell_type": "code",
   "execution_count": 5,
   "metadata": {
    "ExecuteTime": {
     "end_time": "2022-04-04T17:16:51.419983Z",
     "start_time": "2022-04-04T17:16:51.212900Z"
    },
    "pycharm": {
     "name": "#%%\n"
    }
   },
   "outputs": [],
   "source": [
    "# silent all neurons\n",
    "paramGroup = params.gen_clean_param_group()\n",
    "for chip in range(4):\n",
    "    for core in range(4):\n",
    "        model.update_parameter_group(paramGroup, chip, core)"
   ]
  },
  {
   "cell_type": "markdown",
   "metadata": {
    "heading_collapsed": true,
    "pycharm": {
     "name": "#%% md\n"
    }
   },
   "source": [
    "## Setting the Biases"
   ]
  },
  {
   "attachments": {},
   "cell_type": "markdown",
   "metadata": {
    "hidden": true,
    "pycharm": {
     "name": "#%% md\n"
    }
   },
   "source": [
    "\n",
    "\n",
    "DPI neuronal parameters\n",
    "***\n",
    "| Bias Name | Description |\n",
    "| :-- | :-- | \n",
    "| IF_THR_N | the gain factor of neuron. |\n",
    "| IF_TAU1_N/IF_TAU2_N | the membrane time-constant of leakage current. |\n",
    "| IF_RFR_N | refractory period. |\n",
    "| IF_DC_P | Inject constant current. |\n",
    "\n",
    "***\n",
    "Synaptic parameters\n",
    "***\n",
    "\n",
    "| Abbreviations | Description |\n",
    "| :-- | :-- |\n",
    "|F_P | Fast |\n",
    "|S_P | Slow |\n",
    "|II | Inhibitory |\n",
    "|EE | Excitatory |\n",
    "    \n",
    "***\n",
    "Bias names: `NPDPIE_TAU_F_P,NPDPIE_TAU_S_P,NPDPII_TAU_F_P,NPDPII_TAU_S_P`\n",
    "    \n",
    "\n",
    "NPDP[II_or_IE]\\_TAU\\_[F_or_S]_P : corresponds to **leakage current**, i.e. how much current is constantly leaked away. It represents the time-constant of current decay. \n",
    "    \n",
    "*** \n",
    "    \n",
    "Bias names: `NPDPIE_THR_F_P, NPDPIE_THR_S_P, NPDPII_THR_F_P, NPDPII_THR_S_P`\n",
    "    \n",
    "\n",
    "NPDP[II_or_IE]\\_THR\\_[F_or_S]_P: the gain factor of the synapse. \n",
    "\n",
    "*** \n",
    "    \n",
    "Bias names: `PS_WEIGHT_EXC_F_N,PS_WEIGHT_EXC_S_N,PS_WEIGHT_INH_F_N,PS_WEIGHT_INH_S_N` : Weight Bias\n",
    "*** \n",
    "    \n",
    "Bias name: `IF_NMDA_N`: Sets NMDA gating-threshold\n",
    "\n",
    "***\n",
    "\n",
    "\n",
    "\n",
    "There are biases to set adaptation but that is not listed here.\n",
    "\n",
    "The biases are tuned via two knobs:\n",
    "\n",
    "    - a coarse value: [0,8)\n",
    "    - a fine value: [0, 256)\n",
    "    \n"
   ]
  },
  {
   "cell_type": "markdown",
   "metadata": {
    "hidden": true,
    "pycharm": {
     "name": "#%% md\n"
    }
   },
   "source": [
    "<div class=\"alert alert-block alert-danger\">\n",
    "    \n",
    "Remark: For projects, json and txt file for parameter would be better, I will send the example files later via email \n",
    "</div>"
   ]
  },
  {
   "attachments": {},
   "cell_type": "markdown",
   "metadata": {
    "heading_collapsed": true,
    "pycharm": {
     "name": "#%% md\n"
    }
   },
   "source": [
    "## NMDA Synapse"
   ]
  },
  {
   "cell_type": "code",
   "execution_count": 7,
   "metadata": {},
   "outputs": [
    {
     "ename": "TypeError",
     "evalue": "'NeuronGroup' object is not subscriptable",
     "output_type": "error",
     "traceback": [
      "\u001b[0;31m---------------------------------------------------------------------------\u001b[0m",
      "\u001b[0;31mTypeError\u001b[0m                                 Traceback (most recent call last)",
      "\u001b[0;32m<ipython-input-7-3178faade010>\u001b[0m in \u001b[0;36m<module>\u001b[0;34m\u001b[0m\n\u001b[0;32m----> 1\u001b[0;31m \u001b[0mspikegen\u001b[0m\u001b[0;34m[\u001b[0m\u001b[0;36m0\u001b[0m\u001b[0;34m]\u001b[0m\u001b[0;34m\u001b[0m\u001b[0;34m\u001b[0m\u001b[0m\n\u001b[0m",
      "\u001b[0;31mTypeError\u001b[0m: 'NeuronGroup' object is not subscriptable"
     ]
    }
   ],
   "source": []
  },
  {
   "cell_type": "code",
   "execution_count": 75,
   "metadata": {
    "hidden": true,
    "pycharm": {
     "name": "#%%\n"
    }
   },
   "outputs": [
    {
     "name": "stdout",
     "output_type": "stream",
     "text": [
      "Post neuron (ChipId,coreId,neuronId): incoming connections [(preNeuron,synapseType), ...]\n",
      "C0c1n17: [('C0c1s10', 'NMDA'), ('C0c1s11', 'AMPA')]\n",
      "C0c1n14: [('C0c1s10', 'NMDA'), ('C0c1s11', 'AMPA')]\n",
      "C0c1n18: [('C0c1s10', 'NMDA'), ('C0c1s11', 'AMPA')]\n",
      "C0c1n16: [('C0c1s10', 'NMDA'), ('C0c1s11', 'AMPA')]\n",
      "C0c1n15: [('C0c1s10', 'NMDA'), ('C0c1s11', 'AMPA')]\n",
      "\n"
     ]
    }
   ],
   "source": [
    "# Create a population of neurons to receive \n",
    "net_gen = n.NetworkGenerator()\n",
    "\n",
    "# Spike Generator for NMDA input + for AMPA input\n",
    "spike_gens = [10,11]\n",
    "spgen_chip_id = 0\n",
    "spgen_core_id = 1\n",
    "\n",
    "# nids = np.arange(100, 100 + n_mu, 1)\n",
    "\n",
    "spikegen_nmda = n.NeuronGroup(spgen_chip_id , spgen_core_id, [spike_gens[0]] ,True) \n",
    "spikegen_ampa = n.NeuronGroup(spgen_chip_id , spgen_core_id, [spike_gens[1]] ,True) \n",
    "\n",
    "# print(f'Spike Gen\\n Chip Id: {spikegen.chip_id}, Core Id: {spikegen.core_id},  Ids: {spikegen.neuron_ids},  Object: {spikegen.neurons}')\n",
    "\n",
    "\n",
    "# Output DPI neuron population representing a singlf DoF\n",
    "neu_chip_id = 0\n",
    "neu_core_id = 1\n",
    "neu_pop = 5\n",
    "\n",
    "neu_ids = np.arange(14, 14 + neu_pop ,1)\n",
    "DPI_neuron = n.NeuronGroup(neu_chip_id, neu_core_id, neu_ids)\n",
    "\n",
    "# Connect all2all with AMPA synpase\n",
    "syn = n.Synapses(spikegen_nmda, DPI_neuron, dyn1.Dynapse1SynType.NMDA, conn_type='all2all')\n",
    "\n",
    "n.add_synapses(net_gen, syn)\n",
    "\n",
    "syn = n.Synapses(spikegen_ampa, DPI_neuron, dyn1.Dynapse1SynType.AMPA, conn_type='all2all')\n",
    "\n",
    "n.add_synapses(net_gen, syn)\n",
    "\n",
    "print(net_gen.network)"
   ]
  },
  {
   "cell_type": "code",
   "execution_count": 76,
   "metadata": {},
   "outputs": [],
   "source": [
    "# apply configuration\n",
    "current_config = net_gen.make_dynapse1_configuration()\n",
    "model.apply_configuration(current_config)"
   ]
  },
  {
   "cell_type": "code",
   "execution_count": 77,
   "metadata": {},
   "outputs": [],
   "source": [
    "def organize_results(events, df_spikes=None):\n",
    "    # evts_n = np.array([[evt.timestamp, evt.neuron_id] for evt in events])\n",
    "    timestamp_offset = 0 \n",
    "    if df_spikes is None:\n",
    "        df_spikes = pd.DataFrame()\n",
    "    for evt in events:\n",
    "        if timestamp_offset==0:\n",
    "            timestamp_offset = evt.timestamp\n",
    "        spikeData = dict(chip = evt.chip_id, \n",
    "                        core = evt.core_id,\n",
    "                        neuron_id = evt.neuron_id,\n",
    "                        times =(evt.timestamp-timestamp_offset)* 1e-6)\n",
    "        df_spikes = pd.concat([df_spikes,pd.DataFrame(spikeData,index=[0])])\n",
    "    return df_spikes"
   ]
  },
  {
   "attachments": {},
   "cell_type": "markdown",
   "metadata": {},
   "source": [
    "- Step#1: Connect AMPA and make sure you get firing at 100 Hz\n",
    "- Step#2: Connect NMDA, but make sure weight of AMPA is set to 0 and the leak is set to coarse 7. The reason is that: slow leak and high gain leads neuron to be\n",
    "\n"
   ]
  },
  {
   "cell_type": "code",
   "execution_count": 178,
   "metadata": {},
   "outputs": [],
   "source": [
    "# Set biases for nmda threshold and DC injection\n",
    "def set_bias_nmda():\n",
    "    paramGroup = dyn1.Dynapse1ParameterGroup()\n",
    "    # THR, gain factor of neurons\n",
    "\n",
    "    # leakage of AMPA: this is fast\n",
    "    paramGroup.param_map[\"NPDPIE_TAU_F_P\"].coarse_value = 5 #7 #5\n",
    "    paramGroup.param_map[\"NPDPIE_TAU_F_P\"].fine_value = 125\n",
    "\n",
    "    # gain of AMPA\n",
    "    paramGroup.param_map[\"NPDPIE_THR_F_P\"].coarse_value = 5\n",
    "    paramGroup.param_map[\"NPDPIE_THR_F_P\"].fine_value = 40\n",
    "\n",
    "    # weight of AMPA\n",
    "    paramGroup.param_map[\"PS_WEIGHT_EXC_F_N\"].coarse_value = 6 #6\n",
    "    paramGroup.param_map[\"PS_WEIGHT_EXC_F_N\"].fine_value = 30  #30\n",
    "\n",
    "    #------------------------NMDA-zeft----------------------#\n",
    "    # first keep NMDA threshold to 0: i.e deactivate (AMPA_like) at coarse 0\n",
    "    paramGroup.param_map[\"IF_NMDA_N\"].coarse_value = 5 #6 #0\n",
    "    paramGroup.param_map[\"IF_NMDA_N\"].fine_value = 100#100 #0\n",
    "    #\n",
    "\n",
    "    # # Adjust weight of NMDA\n",
    "    paramGroup.param_map[\"PS_WEIGHT_EXC_S_N\"].coarse_value = 5 #0\n",
    "    paramGroup.param_map[\"PS_WEIGHT_EXC_S_N\"].fine_value = 60\n",
    "\n",
    "    # # NMDA time constant\n",
    "    paramGroup.param_map[\"NPDPIE_TAU_S_P\"].coarse_value = 2\n",
    "    paramGroup.param_map[\"NPDPIE_TAU_S_P\"].fine_value = 125\n",
    "    \n",
    "    # NMDA gain\n",
    "    paramGroup.param_map[\"NPDPIE_THR_S_P\"].coarse_value = 4\n",
    "    paramGroup.param_map[\"NPDPIE_THR_S_P\"].fine_value = 80\n",
    "\n",
    "    #--------------------Neuron--------------------------#\n",
    "    # Inject current to make neuron fire\n",
    "    paramGroup.param_map[\"IF_DC_P\"].coarse_value = 0\n",
    "    paramGroup.param_map[\"IF_DC_P\"].fine_value = 0\n",
    "\n",
    "    # Reduce neuron leakage\n",
    "    paramGroup.param_map[\"IF_TAU1_N\"].coarse_value = 4\n",
    "    paramGroup.param_map[\"IF_TAU1_N\"].fine_value = 80\n",
    "\n",
    "    return paramGroup\n"
   ]
  },
  {
   "cell_type": "code",
   "execution_count": 179,
   "metadata": {},
   "outputs": [],
   "source": [
    "chip_param = set_bias_nmda()\n",
    "model.update_parameter_group(chip_param, DPI_neuron.chip_id, DPI_neuron.core_id)\n"
   ]
  },
  {
   "cell_type": "code",
   "execution_count": 167,
   "metadata": {},
   "outputs": [
    {
     "name": "stdout",
     "output_type": "stream",
     "text": [
      "PS_WEIGHT_EXC_S_N  Coarse:5    Fine:60\n"
     ]
    }
   ],
   "source": [
    "temp_config  = model.get_configuration()\n",
    "display_model_config(temp_config, DPI_neuron.chip_id, DPI_neuron.core_id, param_name='PS_WEIGHT_EXC_S_N')\n"
   ]
  },
  {
   "cell_type": "code",
   "execution_count": 168,
   "metadata": {},
   "outputs": [],
   "source": [
    "# model.update_single_parameter(dyn1.Dynapse1Parameter(\"IF_NMDA_N\", 0,0), DPI_neuron.chip_id, DPI_neuron.core_id)"
   ]
  },
  {
   "cell_type": "code",
   "execution_count": 180,
   "metadata": {},
   "outputs": [
    {
     "name": "stdout",
     "output_type": "stream",
     "text": [
      "[266] [267]\n"
     ]
    }
   ],
   "source": [
    "# set the input\n",
    "poisson_gen = model.get_poisson_gen()\n",
    "\n",
    "# get global ids of neurons\n",
    "spikegen_gids_nmda = ut.get_global_id_list(spikegen_nmda.tuple_neuron_ids)  \n",
    "spikegen_gids_ampa = ut.get_global_id_list(spikegen_ampa.tuple_neuron_ids)  \n",
    "\n",
    "print(spikegen_gids_nmda,spikegen_gids_ampa )\n",
    "\n",
    "# Set target chip\n",
    "post_chip = DPI_neuron.chip_id\n",
    "poisson_gen.set_chip_id(post_chip)\n",
    "\n",
    "rate_nmda = 100#20 #in Hz\n",
    "rate_ampa = 100\n",
    "\n",
    "poisson_gen.write_poisson_rate_hz(spikegen_gids_nmda[0], rate_nmda)\n",
    "poisson_gen.write_poisson_rate_hz(spikegen_gids_ampa[0], rate_ampa)"
   ]
  },
  {
   "cell_type": "code",
   "execution_count": 181,
   "metadata": {},
   "outputs": [
    {
     "name": "stdout",
     "output_type": "stream",
     "text": [
      "266 events.\n",
      "267 events.\n",
      "285 events.\n"
     ]
    }
   ],
   "source": [
    "# Create a graph to monitor output spikes\n",
    "graph, filter_node, sink_node = ut.create_neuron_select_graph(model, DPI_neuron.tuple_neuron_ids)\n",
    "\n",
    "# start gens\n",
    "poisson_gen.start()\n",
    "\n",
    "# Start graph \n",
    "graph.start()\n",
    "\n",
    "# Clear buffer\n",
    "sink_node.get_events()\n",
    "\n",
    "for i in range(3):\n",
    "    # get spikes every 2 seconds\n",
    "    time.sleep(4)\n",
    "    events = sink_node.get_events()\n",
    "    # process the events\n",
    "    print(len(events),\"events.\")\n",
    "\n",
    "graph.stop()\n",
    "poisson_gen.stop()\n",
    "\n",
    "# Organize events\n",
    "results_df = organize_results(events)"
   ]
  },
  {
   "cell_type": "code",
   "execution_count": 182,
   "metadata": {},
   "outputs": [
    {
     "data": {
      "text/plain": [
       "Text(0.5, 1.0, 'Output spikes')"
      ]
     },
     "execution_count": 182,
     "metadata": {},
     "output_type": "execute_result"
    },
    {
     "data": {
      "image/png": "[encoded data removed]",
      "text/plain": [
       "<Figure size 900x180 with 1 Axes>"
      ]
     },
     "metadata": {
      "image/png": {
       "height": 136,
       "width": 769
      },
      "needs_background": "light"
     },
     "output_type": "display_data"
    }
   ],
   "source": [
    "# plot input spikes \n",
    "fig = plt.figure(figsize=(10,2))\n",
    "\n",
    "ax = fig.add_subplot(2,1,1)\n",
    "results_df.plot(x='times', y='neuron_id',kind='scatter', ax=ax)\n",
    "plt.title(\"Output spikes\")\n",
    "\n",
    "# ax = fig.add_subplot(2,1,2)\n",
    "# ax"
   ]
  },
  {
   "attachments": {},
   "cell_type": "markdown",
   "metadata": {
    "pycharm": {
     "name": "#%% md\n"
    }
   },
   "source": [
    "## GABA_A and  GABA_B synapses\n",
    "  "
   ]
  },
  {
   "cell_type": "code",
   "execution_count": null,
   "metadata": {
    "ExecuteTime": {
     "end_time": "2022-04-04T13:48:39.779855Z",
     "start_time": "2022-04-04T13:48:39.717441Z"
    },
    "pycharm": {
     "name": "#%%\n"
    }
   },
   "outputs": [],
   "source": [
    "import samna\n",
    "import samna.dynapse1 as dyn1\n",
    "import time\n",
    "\n",
    "import sys\n",
    "# # change the path to '/home/class_NI2021/ctxctl_contrib' on zemo\n",
    "# sys.path.insert(1, '/home/jingyue/aa_projects/ctxctl_contrib')\n",
    "# from Dynapse1Constants import *\n",
    "# import Dynapse1Utils as ut\n",
    "# import NetworkGenerator as n\n",
    "# from NetworkGenerator import Neuron\n",
    "# import numpy as np\n",
    "\n",
    "def gen_param_group_1core():\n",
    "    paramGroup = dyn1.Dynapse1ParameterGroup()\n",
    "    # THR, gain factor of neurons\n",
    "    paramGroup.param_map[\"IF_THR_N\"].coarse_value = 5\n",
    "    paramGroup.param_map[\"IF_THR_N\"].fine_value = 80\n",
    "\n",
    "    # refactory period of neurons\n",
    "    paramGroup.param_map[\"IF_RFR_N\"].coarse_value = 4\n",
    "    paramGroup.param_map[\"IF_RFR_N\"].fine_value = 128\n",
    "\n",
    "    # leakage of neurons\n",
    "    paramGroup.param_map[\"IF_TAU1_N\"].coarse_value = 4\n",
    "    paramGroup.param_map[\"IF_TAU1_N\"].fine_value = 80\n",
    "\n",
    "    # turn off tau2\n",
    "    paramGroup.param_map[\"IF_TAU2_N\"].coarse_value = 7\n",
    "    paramGroup.param_map[\"IF_TAU2_N\"].fine_value = 255\n",
    "\n",
    "    # turn off DC\n",
    "    paramGroup.param_map[\"IF_DC_P\"].coarse_value = 0\n",
    "    paramGroup.param_map[\"IF_DC_P\"].fine_value = 0\n",
    "\n",
    "    # leakage of AMPA\n",
    "    paramGroup.param_map[\"NPDPIE_TAU_F_P\"].coarse_value = 4\n",
    "    paramGroup.param_map[\"NPDPIE_TAU_F_P\"].fine_value = 80\n",
    "\n",
    "    # gain of AMPA\n",
    "    paramGroup.param_map[\"NPDPIE_THR_F_P\"].coarse_value = 4\n",
    "    paramGroup.param_map[\"NPDPIE_THR_F_P\"].fine_value = 80\n",
    "\n",
    "    # weight of AMPA\n",
    "    paramGroup.param_map[\"PS_WEIGHT_EXC_F_N\"].coarse_value = 0\n",
    "    paramGroup.param_map[\"PS_WEIGHT_EXC_F_N\"].fine_value = 0\n",
    "\n",
    "    # leakage of NMDA\n",
    "    paramGroup.param_map[\"NPDPIE_TAU_S_P\"].coarse_value = 4\n",
    "    paramGroup.param_map[\"NPDPIE_TAU_S_P\"].fine_value = 80\n",
    "\n",
    "    # gain of NMDA\n",
    "    paramGroup.param_map[\"NPDPIE_THR_S_P\"].coarse_value = 4\n",
    "    paramGroup.param_map[\"NPDPIE_THR_S_P\"].fine_value = 80\n",
    "\n",
    "    # weight of NMDA\n",
    "    paramGroup.param_map[\"PS_WEIGHT_EXC_S_N\"].coarse_value = 0\n",
    "    paramGroup.param_map[\"PS_WEIGHT_EXC_S_N\"].fine_value = 0\n",
    "\n",
    "    # leakage of GABA_A (shunting)\n",
    "    paramGroup.param_map[\"NPDPII_TAU_F_P\"].coarse_value = 4\n",
    "    paramGroup.param_map[\"NPDPII_TAU_F_P\"].fine_value = 80\n",
    "\n",
    "    # gain of GABA_A (shunting)\n",
    "    paramGroup.param_map[\"NPDPII_THR_F_P\"].coarse_value = 4\n",
    "    paramGroup.param_map[\"NPDPII_THR_F_P\"].fine_value = 80\n",
    "\n",
    "    # weight of GABA_A (shunting)\n",
    "    paramGroup.param_map[\"PS_WEIGHT_INH_F_N\"].coarse_value = 0\n",
    "    paramGroup.param_map[\"PS_WEIGHT_INH_F_N\"].fine_value = 0\n",
    "\n",
    "    # leakage of GABA_B\n",
    "    paramGroup.param_map[\"NPDPII_TAU_S_P\"].coarse_value = 4\n",
    "    paramGroup.param_map[\"NPDPII_TAU_S_P\"].fine_value = 80\n",
    "\n",
    "    # gain of GABA_B\n",
    "    paramGroup.param_map[\"NPDPII_THR_S_P\"].coarse_value = 4\n",
    "    paramGroup.param_map[\"NPDPII_THR_S_P\"].fine_value = 80\n",
    "\n",
    "    # weight of GABA_B\n",
    "    paramGroup.param_map[\"PS_WEIGHT_INH_S_N\"].coarse_value = 0\n",
    "    paramGroup.param_map[\"PS_WEIGHT_INH_S_N\"].fine_value = 0\n",
    "\n",
    "    # other advanced parameters\n",
    "    paramGroup.param_map[\"IF_NMDA_N\"].coarse_value = 0\n",
    "    paramGroup.param_map[\"IF_NMDA_N\"].fine_value = 0\n",
    "\n",
    "    paramGroup.param_map[\"IF_AHTAU_N\"].coarse_value = 4\n",
    "    paramGroup.param_map[\"IF_AHTAU_N\"].fine_value = 80\n",
    "\n",
    "    paramGroup.param_map[\"IF_AHTHR_N\"].coarse_value = 0\n",
    "    paramGroup.param_map[\"IF_AHTHR_N\"].fine_value = 0\n",
    "\n",
    "    paramGroup.param_map[\"IF_AHW_P\"].coarse_value = 0\n",
    "    paramGroup.param_map[\"IF_AHW_P\"].fine_value = 0\n",
    "\n",
    "    paramGroup.param_map[\"IF_CASC_N\"].coarse_value = 0\n",
    "    paramGroup.param_map[\"IF_CASC_N\"].fine_value = 0\n",
    "\n",
    "    paramGroup.param_map[\"PULSE_PWLK_P\"].coarse_value = 4\n",
    "    paramGroup.param_map[\"PULSE_PWLK_P\"].fine_value = 106\n",
    "\n",
    "    paramGroup.param_map[\"R2R_P\"].coarse_value = 3\n",
    "    paramGroup.param_map[\"R2R_P\"].fine_value = 85\n",
    "\n",
    "    paramGroup.param_map[\"IF_BUF_P\"].coarse_value = 3\n",
    "    paramGroup.param_map[\"IF_BUF_P\"].fine_value = 80\n",
    "\n",
    "    return paramGroup\n",
    "\n",
    "# --------------- GABA_A inhibition ----------------\n",
    "# first reuse part1 to make the neuron fire at 100Hz\n",
    "# with proper parameters, then add 1 GABA_A synapse \n",
    "# between a Poissongen and this neuron. Use different\n",
    "# input rate to inhibit the neuron and monitor its output rates.\n",
    "\n",
    "# open DYNAP-SE1 board to get Dynapse1Model\n",
    "# device_name = \"my_dynapse1\"\n",
    "# # change the port numbers to not have conflicts with other groups\n",
    "# store = ut.open_dynapse1(device_name, gui=False, sender_port=12345, receiver_port=12346)\n",
    "# model = getattr(store, device_name)\n",
    "\n",
    "# # set initial (proper) parameters\n",
    "# paramGroup = gen_param_group_1core()\n",
    "# for chip in range(4):\n",
    "#     for core in range(4):\n",
    "#         model.update_parameter_group(paramGroup, chip, core)\n",
    "\n",
    "# select a spike generator\n",
    "schip = 0\n",
    "score = 0\n",
    "sid = 1\n",
    "\n",
    "# choose a neuron to monitor.\n",
    "chip = 0\n",
    "core = 1\n",
    "nid = 16\n",
    "\n",
    "# inh weights\n",
    "w_coarse_value = 7\n",
    "w_fine_values = np.arange(0, 250, 100)\n",
    "\n",
    "# input rates\n",
    "input_freqs = np.arange(20, 200, 20)\n",
    "\n",
    "duration = 1\n",
    "\n",
    "# result frequency list\n",
    "output_rates = np.zeros((len(w_fine_values), len(input_freqs)))\n",
    "\n",
    "# get the global neuron ID of the neuron\n",
    "monitored_global_nid = ut.get_global_id(chip, core, nid)\n",
    "\n",
    "####################### TODO #######################\n",
    "# tune parameters, you may change the params below\n",
    "# but feel free to play with more options\n",
    "\n",
    "# set DC of this core\n",
    "param = dyn1.Dynapse1Parameter(\"IF_DC_P\", 4, 200)\n",
    "model.update_single_parameter(param, chip, core)\n",
    "# decrease the leak\n",
    "param = dyn1.Dynapse1Parameter(\"IF_TAU1_N\", 3, 40)\n",
    "model.update_single_parameter(param, chip, core)\n",
    "\n",
    "# GABA_B, NPDPII_THR_F_P\n",
    "param = dyn1.Dynapse1Parameter(\"NPDPII_THR_F_P\", 5, 80)\n",
    "model.update_single_parameter(param, chip, core)\n",
    "# GABA_B, NPDPII_TAU_F_P\n",
    "param = dyn1.Dynapse1Parameter(\"NPDPII_TAU_F_P\", 3, 20)\n",
    "model.update_single_parameter(param, chip, core)\n",
    "####################### TODO #######################\n",
    "\n",
    "\n",
    "####################### TODO #######################\n",
    "# build network\n",
    "# init a network generator\n",
    "net_gen = n.NetworkGenerator()\n",
    "spikegen = n.Neuron(schip, score, sid, True)\n",
    "neuron = n.Neuron(chip, core, nid)\n",
    "\n",
    "# connect spikegen to neuron (only in the network topology not chips for now)\n",
    "net_gen.add_connection(spikegen, neuron, dyn1.Dynapse1SynType.GABA_A)\n",
    "\n",
    "# print the network so you can double check (optional)\n",
    "net_gen.print_network()\n",
    "# make a dynapse1config using the network\n",
    "new_config = net_gen.make_dynapse1_configuration()\n",
    "# apply the configuration\n",
    "model.apply_configuration(new_config)\n",
    "####################### TODO #######################\n",
    "\n",
    "# get fpga_spike_gen\n",
    "fpga_spike_gen = model.get_fpga_spike_gen()\n",
    "\n",
    "\n",
    "####################### TODO #######################\n",
    "# create a graph to monitor the spikes of this neuron\n",
    "graph, filter_node, sink_node = ut.create_neuron_select_graph(model, [monitored_global_nid])\n",
    "####################### TODO #######################\n",
    "\n",
    "for i in range(len(w_fine_values)):\n",
    "    # set weight of GABA_B\n",
    "    param = dyn1.Dynapse1Parameter(\"PS_WEIGHT_INH_F_N\", w_coarse_value, w_fine_values[i])\n",
    "    model.update_single_parameter(param, chip, core)\n",
    "\n",
    "    for j in range(len(input_freqs)):\n",
    "        # -------- set up FPGA spike gens --------\n",
    "        # preload the stimulus\n",
    "        spikegen_global_id = ut.get_global_id(schip, score, sid)\n",
    "        sample_duration = 4\n",
    "        # generate spike times\n",
    "        spike_count = input_freqs[j] * sample_duration \n",
    "        spike_times = np.linspace(0, sample_duration, spike_count)\n",
    "        print(spike_count, len(spike_times))\n",
    "        # generate spikegen id list corresponding to spike_times\n",
    "        indices = [spikegen_global_id]*len(spike_times)\n",
    "\n",
    "        # the chips where the post neurons are\n",
    "        target_chips = [chip]*len(indices)\n",
    "        isi_base = 900\n",
    "        repeat_mode=False\n",
    "\n",
    "        # set up the fpga_spike_gen\n",
    "        ut.set_fpga_spike_gen(fpga_spike_gen, spike_times, indices, target_chips, isi_base, repeat_mode)\n",
    "        # -------- set up FPGA spike gens --------\n",
    "\n",
    "        graph.start()\n",
    "        fpga_spike_gen.start()\n",
    "\n",
    "        ####################### TODO #######################\n",
    "        # get events\n",
    "        # clear the output buffer\n",
    "        sink_node.get_buf()\n",
    "        # sleep for 1 sec\n",
    "        time.sleep(duration)\n",
    "        # get the events accumulated during the past 1 sec\n",
    "        events = sink_node.get_buf()\n",
    "        ####################### TODO #######################\n",
    "\n",
    "        fpga_spike_gen.stop()\n",
    "        graph.stop()\n",
    "\n",
    "        # append the frequency to the list\n",
    "        print(len(events))\n",
    "        freq = len(events)/duration\n",
    "        output_rates[i][j] = freq\n",
    "\n",
    "print(output_rates)\n",
    "np.save('./6_output_rates_shunting', output_rates)\n",
    "\n",
    "# close Dynapse1\n",
    "ut.close_dynapse1(store, device_name)"
   ]
  },
  {
   "cell_type": "code",
   "execution_count": null,
   "metadata": {
    "ExecuteTime": {
     "end_time": "2022-04-04T13:49:38.993793Z",
     "start_time": "2022-04-04T13:49:38.977693Z"
    },
    "pycharm": {
     "name": "#%%\n"
    }
   },
   "outputs": [],
   "source": [
    "config1 = model.get_configuration()\n",
    "\n",
    "print(\"Coarse: \" + str(config1.chips[0].cores[1].parameter_group.param_map['IF_DC_P'].coarse_value))\n",
    "print(\"Fine: \" + str(config1.chips[0].cores[1].parameter_group.param_map['IF_DC_P'].fine_value))"
   ]
  },
  {
   "cell_type": "code",
   "execution_count": null,
   "metadata": {
    "pycharm": {
     "name": "#%%\n"
    }
   },
   "outputs": [],
   "source": []
  }
 ],
 "metadata": {
  "kernelspec": {
   "display_name": "Python 3",
   "language": "python",
   "name": "python3"
  },
  "language_info": {
   "codemirror_mode": {
    "name": "ipython",
    "version": 3
   },
   "file_extension": ".py",
   "mimetype": "text/x-python",
   "name": "python",
   "nbconvert_exporter": "python",
   "pygments_lexer": "ipython3",
   "version": "3.8.10"
  },
  "toc": {
   "base_numbering": 1,
   "nav_menu": {},
   "number_sections": true,
   "sideBar": true,
   "skip_h1_title": false,
   "title_cell": "Table of Contents",
   "title_sidebar": "Contents",
   "toc_cell": true,
   "toc_position": {
    "height": "calc(100% - 180px)",
    "left": "10px",
    "top": "150px",
    "width": "165px"
   },
   "toc_section_display": true,
   "toc_window_display": true
  }
 },
 "nbformat": 4,
 "nbformat_minor": 4
}
