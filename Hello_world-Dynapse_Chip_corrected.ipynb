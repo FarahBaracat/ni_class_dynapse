{
 "cells": [
  {
   "attachments": {},
   "cell_type": "markdown",
   "metadata": {},
   "source": [
    "## Table of Contents\n",
    "\n",
    "[1. Connecting to Zemo](#1-connecting-to-zemo-through-lan)\n",
    "\n",
    "[2. NMDA Voltage-Gating Mechanism](#2-nmda-voltage-gating-mechanism)\n",
    "\n",
    "[3. Inhibitory Synapses: GABA A and GABA B](#3-inhibitory-synapses-gaba_a-and-gaba_b)"
   ]
  },
  {
   "attachments": {},
   "cell_type": "markdown",
   "metadata": {
    "pycharm": {
     "name": "#%% md\n"
    }
   },
   "source": [
    "# 1. Connecting to Zemo through LAN\n",
    "\n",
    "For this lab, if you are still having issues connecting to INI VPN, you can use a LAN cable directly.\n",
    "\n",
    "\n",
    "**Step 1:** From your **local machine** terminal, SSH to Zemo using the username and password sent to you by email:\n",
    "10.65.48.134 is the Zemo's IP address.\n",
    "\n",
    "`ssh -X username@10.65.48.134`\n",
    "\n",
    "\n",
    "**Step 2a:** **On Zemo**, install the correct version of samna:\n",
    "\n",
    "`pip install samna==0.18.0.0`\n",
    "\n",
    "also install pandas: `pip install pandas`\n",
    "\n",
    "**Step 2b:** **On Zemo**, install jupyter \n",
    "*If you are using VSCode, you can setup remote developement via the [Remote-SSH extension](https://code.visualstudio.com/docs/remote/ssh) and work with Jupyter notebooks in VSCode.*\n",
    "\n",
    "**Step 3** **On Zemo**, launch the notebook \n",
    "\n",
    "`jupyter notebook --no-browser --port=8866`\n",
    "\n",
    "\n",
    "**Step 4**: **Back to your loval machine**\n",
    "\n",
    "`ssh -N -f -L 8866:localhost:8866 username@10.65.48.134`\n",
    "\n",
    "\n",
    "**Additional useful commands:**\n",
    "\n",
    "- Map remote directory to local folder: \n",
    "\n",
    "`sshfs username@10.65.48.134:/home/username/dir_name local_directory`\n",
    "\n",
    "- To copy (same PC): `cp -R <source_folder> <destination_folder>`\n",
    "\n",
    "- To copy (from remote to local):\n",
    "\n",
    "`scp username@10.65.48.134:/remote_dir_path/Hello_world.ipynb /local_dir_path/folder_name`\n",
    "\n",
    "- To copy (from local to remote):\n",
    "\n",
    "`scp local_dir_path/Hello_world.ipynb  username@10.65.134:/remote_dir_path/`"
   ]
  },
  {
   "cell_type": "markdown",
   "metadata": {
    "pycharm": {
     "name": "#%% md\n"
    }
   },
   "source": [
    "## Import libraries"
   ]
  },
  {
   "cell_type": "code",
   "execution_count": 1,
   "metadata": {
    "ExecuteTime": {
     "end_time": "2022-04-04T17:13:57.392766Z",
     "start_time": "2022-04-04T17:13:57.155464Z"
    },
    "pycharm": {
     "name": "#%%\n"
    }
   },
   "outputs": [],
   "source": [
    "import numpy as np\n",
    "import matplotlib as mpl\n",
    "import matplotlib.pyplot as plt\n",
    "import sys\n",
    "import time\n",
    "import pandas as pd\n",
    "\n",
    "# Display plots inside Jupyter cell\n",
    "%matplotlib inline \n",
    "%config InlineBackend.figure_format = 'retina'\n",
    "\n",
    "# Set the dots-per-inch (resolution) of the images\n",
    "mpl.rcParams['figure.dpi'] = 90\n",
    "\n",
    "sys.path.append('/home/class_NI2021/ctxctl_contrib_2023')"
   ]
  },
  {
   "cell_type": "code",
   "execution_count": 2,
   "metadata": {
    "ExecuteTime": {
     "end_time": "2022-04-04T17:13:59.484051Z",
     "start_time": "2022-04-04T17:13:57.757863Z"
    },
    "pycharm": {
     "name": "#%%\n"
    }
   },
   "outputs": [],
   "source": [
    "import samna\n",
    "import samna.dynapse1 as dyn1\n",
    "from dynapse1constants import *\n",
    "import dynapse1utils as ut\n",
    "import netgen as n\n",
    "import params\n",
    "from bias_names import BIAS_NAMES"
   ]
  },
  {
   "cell_type": "code",
   "execution_count": 3,
   "metadata": {
    "ExecuteTime": {
     "end_time": "2022-04-04T17:13:59.487405Z",
     "start_time": "2022-04-04T17:13:59.485326Z"
    },
    "pycharm": {
     "name": "#%%\n"
    }
   },
   "outputs": [],
   "source": [
    "class bcolors:\n",
    "    HEADER = '\\033[95m'\n",
    "    OKBLUE = '\\033[94m'\n",
    "    OKGREEN = '\\033[92m'\n",
    "    WARNING = '\\033[93m'\n",
    "    FAIL = '\\033[91m'\n",
    "    ENDC = '\\033[0m'\n",
    "    BOLD = '\\033[1m'\n",
    "    UNDERLINE = '\\033[4m'"
   ]
  },
  {
   "attachments": {},
   "cell_type": "markdown",
   "metadata": {
    "pycharm": {
     "name": "#%% md\n"
    }
   },
   "source": [
    "### Connecting with the board"
   ]
  },
  {
   "attachments": {},
   "cell_type": "markdown",
   "metadata": {
    "pycharm": {
     "name": "#%% md\n"
    }
   },
   "source": [
    "A list of the currently available boards to use:\n",
    "\n",
    "|Board Serial Number|Port to connect to|\n",
    "| :-- | :-- | \n",
    "Device 3 Dynapse1DevKit serial_number 00000001 | sender_port=16344, receiver_port=17245 |\n",
    "Device 13 Dynapse1DevKit serial_number 00000011 | sender_port=17349, receiver_port=15347 |\n",
    "Device 12 Dynapse1DevKit serial_number 00000027 | sender_port=12344, receiver_port=12345 |\n",
    "Device 6 Dynapse1DevKit serial_number 00000020 | sender_port=13923, receiver_port=11992 |\n",
    "Device 4 Dynapse1DevKit serial_number 00000000 | sender_port=16725, receiver_port=11204 |\n",
    "\n",
    "Upon calling `open_dynapse1`, you will prompted to select the device by index. Note that the index of a given board can change each time you re-run, so double check on the board serial_number and use its corresponding index."
   ]
  },
  {
   "cell_type": "code",
   "execution_count": 4,
   "metadata": {
    "collapsed": false,
    "pycharm": {
     "name": "#%%\n"
    }
   },
   "outputs": [
    {
     "name": "stdout",
     "output_type": "stream",
     "text": [
      "[0]:  Bus 1 Device 3 Dynapse1DevKit serial_number 00000001\n",
      "[1]:  Bus 1 Device 23 Dynapse1DevKit serial_number 00000007\n",
      "[2]:  Bus 1 Device 22 Dynapse1DevKit serial_number 00000027\n",
      "[3]:  Bus 1 Device 27 Dynapse1DevKit serial_number 00000000\n",
      "[4]:  Bus 1 Device 24 Dynapse1DevKit serial_number 00000020\n",
      "[5]:  Bus 1 Device 26 Dynapse1DevKit serial_number 00000011\n",
      "Sender port: tcp://0.0.0.0:1625\n",
      "Receiver port: tcp://0.0.0.0:12437\n",
      "Opened device name: Dynapse1DevKit\n",
      "SamnaNode ID: 1\n",
      "PythonNode ID: 2\n"
     ]
    }
   ],
   "source": [
    "# open DYNAP-SE1 board to get Dynapse1Model. Use the index specified on the leftmostside to select a device\n",
    "device_name = 'dynpase_test' # pick any name\n",
    "model,no_gui = ut.open_dynapse1(gui=False, sender_port=1625, receiver_port=12437, select_device=True) # returns Dynapse1Model"
   ]
  },
  {
   "cell_type": "code",
   "execution_count": 5,
   "metadata": {
    "ExecuteTime": {
     "end_time": "2022-04-04T17:16:51.419983Z",
     "start_time": "2022-04-04T17:16:51.212900Z"
    },
    "pycharm": {
     "name": "#%%\n"
    }
   },
   "outputs": [],
   "source": [
    "# silent all neurons\n",
    "paramGroup = params.gen_clean_param_group()\n",
    "for chip in range(4):\n",
    "    for core in range(4):\n",
    "        model.update_parameter_group(paramGroup, chip, core)"
   ]
  },
  {
   "attachments": {},
   "cell_type": "markdown",
   "metadata": {
    "heading_collapsed": true,
    "pycharm": {
     "name": "#%% md\n"
    }
   },
   "source": [
    "### Setting the Biases"
   ]
  },
  {
   "attachments": {},
   "cell_type": "markdown",
   "metadata": {
    "hidden": true,
    "pycharm": {
     "name": "#%% md\n"
    }
   },
   "source": [
    "\n",
    "\n",
    "DPI neuronal parameters\n",
    "***\n",
    "| Bias Name | Description |\n",
    "| :-- | :-- | \n",
    "| IF_THR_N | the gain factor of neuron. |\n",
    "| IF_TAU1_N/IF_TAU2_N | the membrane time-constant of leakage current. |\n",
    "| IF_RFR_N | refractory period. |\n",
    "| IF_DC_P | Inject constant current. |\n",
    "\n",
    "***\n",
    "Synaptic parameters\n",
    "***\n",
    "\n",
    "| Abbreviations | Description |\n",
    "| :-- | :-- |\n",
    "|F_P | Fast |\n",
    "|S_P | Slow |\n",
    "|II | Inhibitory |\n",
    "|EE | Excitatory |\n",
    "    \n",
    "***\n",
    "Bias names: `NPDPIE_TAU_F_P,NPDPIE_TAU_S_P,NPDPII_TAU_F_P,NPDPII_TAU_S_P`\n",
    "    \n",
    "\n",
    "NPDP[II_or_IE]\\_TAU\\_[F_or_S]_P : corresponds to **leakage current**, i.e. how much current is constantly leaked away. It represents the time-constant of current decay. \n",
    "    \n",
    "*** \n",
    "    \n",
    "Bias names: `NPDPIE_THR_F_P, NPDPIE_THR_S_P, NPDPII_THR_F_P, NPDPII_THR_S_P`\n",
    "    \n",
    "\n",
    "NPDP[II_or_IE]\\_THR\\_[F_or_S]_P: the gain factor of the synapse. \n",
    "\n",
    "*** \n",
    "    \n",
    "Bias names: `PS_WEIGHT_EXC_F_N,PS_WEIGHT_EXC_S_N,PS_WEIGHT_INH_F_N,PS_WEIGHT_INH_S_N` : Weight Bias\n",
    "*** \n",
    "    \n",
    "Bias name: `IF_NMDA_N`: Sets NMDA gating-threshold\n",
    "\n",
    "***\n",
    "\n",
    "\n",
    "\n",
    "There are biases to set adaptation but that is not listed here.\n",
    "\n",
    "The biases are tuned via two knobs:\n",
    "\n",
    "    - a coarse value: [0,8)\n",
    "    - a fine value: [0, 256)\n",
    "    \n"
   ]
  },
  {
   "cell_type": "markdown",
   "metadata": {
    "hidden": true,
    "pycharm": {
     "name": "#%% md\n"
    }
   },
   "source": [
    "<div class=\"alert alert-block alert-danger\">\n",
    "    \n",
    "Remark: For projects, json and txt file for parameter would be better, I will send the example files later via email \n",
    "</div>"
   ]
  },
  {
   "cell_type": "code",
   "execution_count": 7,
   "metadata": {},
   "outputs": [],
   "source": [
    "# Some utility functions you can use\n",
    "def display_model_config(model_config, chip_id, core_id, param_name=None):\n",
    "    \"\"\"\n",
    "    Utility function to print the current configuration for a given chip_id and core_id.\n",
    "    If param_name is not provided, all the parameters are displayed.\n",
    "    \"\"\"\n",
    "    if param_name is None:  # if not none\n",
    "        for bias_name in BIAS_NAMES:\n",
    "            bias_coarse = model_config.chips[chip_id].cores[core_id].parameter_group.param_map[bias_name].coarse_value\n",
    "            bias_fine = model_config.chips[chip_id].cores[core_id].parameter_group.param_map[bias_name].fine_value\n",
    "            print(f\"{bias_name}  Coarse:{bias_coarse}    Fine:{bias_fine}\")\n",
    "    else:\n",
    "        bias_coarse = model_config.chips[chip_id].cores[core_id].parameter_group.param_map[param_name].coarse_value\n",
    "        bias_fine = model_config.chips[chip_id].cores[core_id].parameter_group.param_map[param_name].fine_value\n",
    "        print(f\"{param_name}  Coarse:{bias_coarse}    Fine:{bias_fine}\")\n",
    "    "
   ]
  },
  {
   "attachments": {},
   "cell_type": "markdown",
   "metadata": {
    "heading_collapsed": true,
    "pycharm": {
     "name": "#%% md\n"
    }
   },
   "source": [
    "## 2. NMDA Voltage-Gating Mechanism"
   ]
  },
  {
   "attachments": {},
   "cell_type": "markdown",
   "metadata": {},
   "source": [
    "In this part, we will try to activate the NMDA voltage-gating mechanism:\n",
    "\n",
    "**Step#1**: Provide Poisson input (e.g 200 Hz) to a neuron population (e.g 5 neurons) via AMPA synapses. Tune the weight and time constant of the synapse to make the neuron population fire at about 100 Hz without any DC current injection. Remember: AMPA is a `fast` excitatory synapse, adjust the time constant with this information in mind!\n",
    "\n",
    "**Step#2**: Reset the weight of the AMPA synapse back to 0 (`PS_WEIGHT_EXC_F_N: coarse=0, fine=0`). Connect another input stimulus via an NMDA synapse to the same neuron population above. Make sure that the NMDA voltage threshold is set to its lowest value. \n",
    "`IF_NMDA_N: coarse=0, fine=0`. Now tune the weights of the NMDA synapse to make the neuron population fire. Remember: NMDA is a `slow` excitatory synapse!\n",
    "\n",
    "\n",
    "**Step#3** Re-activate the AMPA synapse by setting the weight back to the value found in Step#1. What is the average population activity now? Did it increase/decrease?\n",
    "\n",
    "**Step#4**: Slowly increase the NMDA threshold (`IF_NMDA_N: coarse=0, fine=0`). How does this affect the average population activity?\n",
    "\n",
    "**Step#5**: Repeat Step#4 for different input stimulus frequency and plot the FF curves for the different NMDA thresholds.\n"
   ]
  },
  {
   "cell_type": "code",
   "execution_count": 75,
   "metadata": {
    "hidden": true,
    "pycharm": {
     "name": "#%%\n"
    }
   },
   "outputs": [
    {
     "name": "stdout",
     "output_type": "stream",
     "text": [
      "Post neuron (ChipId,coreId,neuronId): incoming connections [(preNeuron,synapseType), ...]\n",
      "C0c1n17: [('C0c1s10', 'NMDA'), ('C0c1s11', 'AMPA')]\n",
      "C0c1n14: [('C0c1s10', 'NMDA'), ('C0c1s11', 'AMPA')]\n",
      "C0c1n18: [('C0c1s10', 'NMDA'), ('C0c1s11', 'AMPA')]\n",
      "C0c1n16: [('C0c1s10', 'NMDA'), ('C0c1s11', 'AMPA')]\n",
      "C0c1n15: [('C0c1s10', 'NMDA'), ('C0c1s11', 'AMPA')]\n",
      "\n"
     ]
    }
   ],
   "source": [
    "# Create a population of neurons to receive \n",
    "net_gen = n.NetworkGenerator()\n",
    "\n",
    "# Spike Generator for NMDA input + for AMPA input\n",
    "spike_gens = [10,11]\n",
    "spgen_chip_id = 0\n",
    "spgen_core_id = 1\n",
    "\n",
    "# nids = np.arange(100, 100 + n_mu, 1)\n",
    "\n",
    "spikegen_nmda = n.NeuronGroup(spgen_chip_id , spgen_core_id, [spike_gens[0]] ,True) \n",
    "spikegen_ampa = n.NeuronGroup(spgen_chip_id , spgen_core_id, [spike_gens[1]] ,True) \n",
    "\n",
    "# print(f'Spike Gen\\n Chip Id: {spikegen.chip_id}, Core Id: {spikegen.core_id},  Ids: {spikegen.neuron_ids},  Object: {spikegen.neurons}')\n",
    "\n",
    "\n",
    "# Output DPI neuron population representing a singlf DoF\n",
    "neu_chip_id = 0\n",
    "neu_core_id = 1\n",
    "neu_pop = 5\n",
    "\n",
    "neu_ids = np.arange(14, 14 + neu_pop ,1)\n",
    "DPI_neuron = n.NeuronGroup(neu_chip_id, neu_core_id, neu_ids)\n",
    "\n",
    "# Connect all2all with AMPA synpase\n",
    "syn = n.Synapses(spikegen_nmda, DPI_neuron, dyn1.Dynapse1SynType.NMDA, conn_type='all2all')\n",
    "\n",
    "n.add_synapses(net_gen, syn)\n",
    "\n",
    "syn = n.Synapses(spikegen_ampa, DPI_neuron, dyn1.Dynapse1SynType.AMPA, conn_type='all2all')\n",
    "\n",
    "n.add_synapses(net_gen, syn)\n",
    "\n",
    "print(net_gen.network)"
   ]
  },
  {
   "cell_type": "code",
   "execution_count": 76,
   "metadata": {},
   "outputs": [],
   "source": [
    "# apply configuration\n",
    "current_config = net_gen.make_dynapse1_configuration()\n",
    "model.apply_configuration(current_config)"
   ]
  },
  {
   "cell_type": "code",
   "execution_count": 77,
   "metadata": {},
   "outputs": [],
   "source": [
    "def organize_results(events, df_spikes=None):\n",
    "    # evts_n = np.array([[evt.timestamp, evt.neuron_id] for evt in events])\n",
    "    timestamp_offset = 0 \n",
    "    if df_spikes is None:\n",
    "        df_spikes = pd.DataFrame()\n",
    "    for evt in events:\n",
    "        if timestamp_offset==0:\n",
    "            timestamp_offset = evt.timestamp\n",
    "        spikeData = dict(chip = evt.chip_id, \n",
    "                        core = evt.core_id,\n",
    "                        neuron_id = evt.neuron_id,\n",
    "                        times =(evt.timestamp-timestamp_offset)* 1e-6)\n",
    "        df_spikes = pd.concat([df_spikes,pd.DataFrame(spikeData,index=[0])])\n",
    "    return df_spikes"
   ]
  },
  {
   "cell_type": "code",
   "execution_count": 259,
   "metadata": {},
   "outputs": [],
   "source": [
    "# Set biases for nmda threshold and DC injection\n",
    "def set_bias_nmda():\n",
    "    paramGroup = dyn1.Dynapse1ParameterGroup()\n",
    "    # THR, gain factor of neurons\n",
    "\n",
    "    # leakage of AMPA: this is fast\n",
    "    paramGroup.param_map[\"NPDPIE_TAU_F_P\"].coarse_value = 5 #7 #5\n",
    "    paramGroup.param_map[\"NPDPIE_TAU_F_P\"].fine_value = 125\n",
    "\n",
    "    # gain of AMPA\n",
    "    paramGroup.param_map[\"NPDPIE_THR_F_P\"].coarse_value = 5\n",
    "    paramGroup.param_map[\"NPDPIE_THR_F_P\"].fine_value = 40\n",
    "\n",
    "    # weight of AMPA\n",
    "    paramGroup.param_map[\"PS_WEIGHT_EXC_F_N\"].coarse_value = 6 #6\n",
    "    paramGroup.param_map[\"PS_WEIGHT_EXC_F_N\"].fine_value = 30  #30\n",
    "\n",
    "    #------------------------NMDA-zeft----------------------#\n",
    "    # first keep NMDA threshold to 0: i.e deactivate (AMPA_like) at coarse 0\n",
    "    paramGroup.param_map[\"IF_NMDA_N\"].coarse_value = 4 #6 #0\n",
    "    paramGroup.param_map[\"IF_NMDA_N\"].fine_value = 255#100 #0\n",
    "    #\n",
    "\n",
    "    # Adjust weight of NMDA\n",
    "    paramGroup.param_map[\"PS_WEIGHT_EXC_S_N\"].coarse_value = 5 #0\n",
    "    paramGroup.param_map[\"PS_WEIGHT_EXC_S_N\"].fine_value = 60\n",
    "\n",
    "    # # NMDA time constant\n",
    "    paramGroup.param_map[\"NPDPIE_TAU_S_P\"].coarse_value = 7#2\n",
    "    paramGroup.param_map[\"NPDPIE_TAU_S_P\"].fine_value = 125\n",
    "    \n",
    "    # NMDA gain\n",
    "    paramGroup.param_map[\"NPDPIE_THR_S_P\"].coarse_value = 4\n",
    "    paramGroup.param_map[\"NPDPIE_THR_S_P\"].fine_value = 10\n",
    "\n",
    "    #--------------------Neuron--------------------------#\n",
    "    # Inject current to make neuron fire\n",
    "    paramGroup.param_map[\"IF_DC_P\"].coarse_value = 0\n",
    "    paramGroup.param_map[\"IF_DC_P\"].fine_value = 0\n",
    "\n",
    "    # Reduce neuron leakage\n",
    "    paramGroup.param_map[\"IF_TAU1_N\"].coarse_value = 4\n",
    "    paramGroup.param_map[\"IF_TAU1_N\"].fine_value = 80\n",
    "\n",
    "    return paramGroup\n"
   ]
  },
  {
   "cell_type": "code",
   "execution_count": 260,
   "metadata": {},
   "outputs": [],
   "source": [
    "chip_param = set_bias_nmda()\n",
    "model.update_parameter_group(chip_param, DPI_neuron.chip_id, DPI_neuron.core_id)\n"
   ]
  },
  {
   "cell_type": "code",
   "execution_count": 8,
   "metadata": {},
   "outputs": [
    {
     "ename": "NameError",
     "evalue": "name 'DPI_neuron' is not defined",
     "output_type": "error",
     "traceback": [
      "\u001b[0;31m---------------------------------------------------------------------------\u001b[0m",
      "\u001b[0;31mNameError\u001b[0m                                 Traceback (most recent call last)",
      "\u001b[0;32m<ipython-input-8-4d2c729cf574>\u001b[0m in \u001b[0;36m<module>\u001b[0;34m\u001b[0m\n\u001b[1;32m      1\u001b[0m \u001b[0mtemp_config\u001b[0m  \u001b[0;34m=\u001b[0m \u001b[0mmodel\u001b[0m\u001b[0;34m.\u001b[0m\u001b[0mget_configuration\u001b[0m\u001b[0;34m(\u001b[0m\u001b[0;34m)\u001b[0m\u001b[0;34m\u001b[0m\u001b[0;34m\u001b[0m\u001b[0m\n\u001b[0;32m----> 2\u001b[0;31m \u001b[0mdisplay_model_config\u001b[0m\u001b[0;34m(\u001b[0m\u001b[0mtemp_config\u001b[0m\u001b[0;34m,\u001b[0m \u001b[0mDPI_neuron\u001b[0m\u001b[0;34m.\u001b[0m\u001b[0mchip_id\u001b[0m\u001b[0;34m,\u001b[0m \u001b[0mDPI_neuron\u001b[0m\u001b[0;34m.\u001b[0m\u001b[0mcore_id\u001b[0m\u001b[0;34m,\u001b[0m \u001b[0mparam_name\u001b[0m\u001b[0;34m=\u001b[0m\u001b[0;34m'PS_WEIGHT_EXC_S_N'\u001b[0m\u001b[0;34m)\u001b[0m\u001b[0;34m\u001b[0m\u001b[0;34m\u001b[0m\u001b[0m\n\u001b[0m",
      "\u001b[0;31mNameError\u001b[0m: name 'DPI_neuron' is not defined"
     ]
    }
   ],
   "source": [
    "temp_config  = model.get_configuration()\n",
    "display_model_config(temp_config, DPI_neuron.chip_id, DPI_neuron.core_id, param_name='PS_WEIGHT_EXC_S_N')\n"
   ]
  },
  {
   "cell_type": "code",
   "execution_count": 168,
   "metadata": {},
   "outputs": [],
   "source": [
    "# model.update_single_parameter(dyn1.Dynapse1Parameter(\"IF_NMDA_N\", 0,0), DPI_neuron.chip_id, DPI_neuron.core_id)"
   ]
  },
  {
   "cell_type": "code",
   "execution_count": 245,
   "metadata": {},
   "outputs": [
    {
     "name": "stdout",
     "output_type": "stream",
     "text": [
      "[266] [267]\n"
     ]
    }
   ],
   "source": [
    "# set the input\n",
    "poisson_gen = model.get_poisson_gen()\n",
    "\n",
    "# get global ids of neurons\n",
    "spikegen_gids_nmda = ut.get_global_id_list(spikegen_nmda.tuple_neuron_ids)  \n",
    "spikegen_gids_ampa = ut.get_global_id_list(spikegen_ampa.tuple_neuron_ids)  \n",
    "\n",
    "print(spikegen_gids_nmda,spikegen_gids_ampa )\n",
    "\n",
    "# Set target chip\n",
    "post_chip = DPI_neuron.chip_id\n",
    "poisson_gen.set_chip_id(post_chip)\n",
    "\n",
    "rate_nmda = 100#20 #in Hz\n",
    "rate_ampa = 100\n",
    "\n",
    "poisson_gen.write_poisson_rate_hz(spikegen_gids_nmda[0], rate_nmda)\n",
    "poisson_gen.write_poisson_rate_hz(spikegen_gids_ampa[0], rate_ampa)"
   ]
  },
  {
   "cell_type": "code",
   "execution_count": 263,
   "metadata": {},
   "outputs": [],
   "source": [
    "tau_nmda = dyn1.Dynapse1Parameter(\"NPDPIE_TAU_S_P\", 2, 125)\n",
    "model.update_single_parameter(tau_nmda, DPI_neuron.chip_id, DPI_neuron.core_id)"
   ]
  },
  {
   "cell_type": "code",
   "execution_count": 264,
   "metadata": {},
   "outputs": [
    {
     "name": "stdout",
     "output_type": "stream",
     "text": [
      "199 events.\n",
      "197 events.\n",
      "211 events.\n"
     ]
    }
   ],
   "source": [
    "# Create a graph to monitor output spikes\n",
    "graph, filter_node, sink_node = ut.create_neuron_select_graph(model, DPI_neuron.tuple_neuron_ids)\n",
    "\n",
    "# start gens\n",
    "poisson_gen.start()\n",
    "\n",
    "# Start graph \n",
    "graph.start()\n",
    "\n",
    "# Clear buffer\n",
    "sink_node.get_events()\n",
    "\n",
    "for i in range(3):\n",
    "    # get spikes every 2 seconds\n",
    "    time.sleep(4)\n",
    "    events = sink_node.get_events()\n",
    "    # process the events\n",
    "    print(len(events),\"events.\")\n",
    "\n",
    "graph.stop()\n",
    "poisson_gen.stop()\n",
    "\n",
    "# Organize events\n",
    "results_df = organize_results(events)"
   ]
  },
  {
   "cell_type": "code",
   "execution_count": 266,
   "metadata": {},
   "outputs": [],
   "source": [
    "ut.save_parameters2txt_file(model.get_configuration(), 'nmda_ampa_volt_gating.txt')"
   ]
  },
  {
   "cell_type": "code",
   "execution_count": 267,
   "metadata": {},
   "outputs": [
    {
     "data": {
      "text/plain": [
       "Text(0.5, 1.0, 'Output spikes')"
      ]
     },
     "execution_count": 267,
     "metadata": {},
     "output_type": "execute_result"
    },
    {
     "data": {
      "image/png": "[encoded data removed]",
      "text/plain": [
       "<Figure size 900x180 with 1 Axes>"
      ]
     },
     "metadata": {
      "image/png": {
       "height": 136,
       "width": 769
      },
      "needs_background": "light"
     },
     "output_type": "display_data"
    }
   ],
   "source": [
    "# plot input spikes \n",
    "fig = plt.figure(figsize=(10,2))\n",
    "\n",
    "ax = fig.add_subplot(2,1,1)\n",
    "results_df.plot(x='times', y='neuron_id',kind='scatter', ax=ax)\n",
    "plt.title(\"Output spikes\")\n",
    "\n",
    "# ax = fig.add_subplot(2,1,2)\n",
    "# ax"
   ]
  },
  {
   "attachments": {},
   "cell_type": "markdown",
   "metadata": {
    "pycharm": {
     "name": "#%% md\n"
    }
   },
   "source": [
    "## 3. Inhibitory Synapses: GABA_A and  GABA_B\n",
    "  "
   ]
  },
  {
   "cell_type": "code",
   "execution_count": 9,
   "metadata": {
    "ExecuteTime": {
     "end_time": "2022-04-04T13:48:39.779855Z",
     "start_time": "2022-04-04T13:48:39.717441Z"
    },
    "pycharm": {
     "name": "#%%\n"
    }
   },
   "outputs": [
    {
     "name": "stdout",
     "output_type": "stream",
     "text": [
      "Warning: print_network is deprecated and will be removed in a future release,             use print(NetworkGenerator.network). Note: str(NetworkGenerator.network) gives             you the string format of a network.\n",
      "Post neuron (ChipId,coreId,neuronId): incoming connections [(preNeuron,synapseType), ...]\n",
      "C0c1n16: [('C0c0s1', 'GABA_B')]\n",
      "\n",
      "80 80\n",
      "74\n",
      "160 160\n",
      "73\n",
      "240 240\n",
      "74\n",
      "320 320\n",
      "74\n",
      "400 400\n",
      "74\n",
      "480 480\n",
      "73\n",
      "560 560\n",
      "73\n",
      "640 640\n",
      "73\n",
      "720 720\n",
      "74\n",
      "80 80\n",
      "74\n",
      "160 160\n",
      "74\n",
      "240 240\n",
      "74\n",
      "320 320\n",
      "74\n",
      "400 400\n",
      "74\n",
      "480 480\n",
      "73\n",
      "560 560\n",
      "74\n",
      "640 640\n",
      "74\n",
      "720 720\n",
      "73\n",
      "80 80\n",
      "73\n",
      "160 160\n",
      "74\n",
      "240 240\n",
      "73\n",
      "320 320\n",
      "73\n",
      "400 400\n",
      "73\n",
      "480 480\n",
      "74\n",
      "560 560\n",
      "74\n",
      "640 640\n",
      "73\n",
      "720 720\n",
      "74\n",
      "80 80\n",
      "73\n",
      "160 160\n",
      "73\n",
      "240 240\n",
      "74\n",
      "320 320\n",
      "74\n",
      "400 400\n",
      "74\n",
      "480 480\n",
      "74\n",
      "560 560\n",
      "73\n",
      "640 640\n",
      "73\n",
      "720 720\n",
      "75\n",
      "80 80\n",
      "74\n",
      "160 160\n",
      "73\n",
      "240 240\n",
      "74\n",
      "320 320\n",
      "74\n",
      "400 400\n",
      "73\n",
      "480 480\n",
      "73\n",
      "560 560\n",
      "73\n",
      "640 640\n",
      "73\n",
      "720 720\n",
      "74\n",
      "80 80\n",
      "74\n",
      "160 160\n",
      "73\n",
      "240 240\n",
      "73\n",
      "320 320\n",
      "74\n",
      "400 400\n",
      "73\n",
      "480 480\n",
      "74\n",
      "560 560\n",
      "73\n",
      "640 640\n",
      "74\n",
      "720 720\n",
      "73\n",
      "80 80\n",
      "73\n",
      "160 160\n",
      "72\n",
      "240 240\n",
      "72\n",
      "320 320\n",
      "72\n",
      "400 400\n",
      "71\n",
      "480 480\n",
      "71\n",
      "560 560\n",
      "70\n",
      "640 640\n",
      "71\n",
      "720 720\n",
      "70\n",
      "80 80\n",
      "59\n",
      "160 160\n",
      "40\n",
      "240 240\n",
      "60\n",
      "320 320\n",
      "1\n",
      "400 400\n",
      "0\n",
      "480 480\n",
      "1\n",
      "560 560\n",
      "1\n",
      "640 640\n",
      "0\n",
      "720 720\n",
      "1\n",
      "[[74. 73. 74. 74. 74. 73. 73. 73. 74.]\n",
      " [74. 74. 74. 74. 74. 73. 74. 74. 73.]\n",
      " [73. 74. 73. 73. 73. 74. 74. 73. 74.]\n",
      " [73. 73. 74. 74. 74. 74. 73. 73. 75.]\n",
      " [74. 73. 74. 74. 73. 73. 73. 73. 74.]\n",
      " [74. 73. 73. 74. 73. 74. 73. 74. 73.]\n",
      " [73. 72. 72. 72. 71. 71. 70. 71. 70.]\n",
      " [59. 40. 60.  1.  0.  1.  1.  0.  1.]]\n"
     ]
    }
   ],
   "source": [
    "# --------------- GABA_B inhibition ----------------\n",
    "# first reuse part1 to make the neuron fire at 100Hz\n",
    "# with proper parameters, then add 1 GABA_B synapse \n",
    "# between a Poissongen and this neuron. Use different\n",
    "# input rate to inhibit the neuron and monitor its output rates.\n",
    "\n",
    "\n",
    "# set initial (proper) parameters\n",
    "paramGroup = params.gen_clean_param_group()\n",
    "for neu_chip_id in range(4):\n",
    "    for neu_core_id in range(4):\n",
    "        model.update_parameter_group(paramGroup, neu_chip_id, neu_core_id)\n",
    "\n",
    "# select a spike generator\n",
    "schip = 0\n",
    "score = 0\n",
    "sid = 1\n",
    "\n",
    "# choose a neuron to monitor.\n",
    "neu_chip_id = 0\n",
    "neu_core_id = 1\n",
    "neu_ids = 16\n",
    "\n",
    "# inh weights\n",
    "w_coarse_values = np.arange(0, 8, 1)#7\n",
    "w_fine_value = 180#np.arange(0, 9, 3)\n",
    "\n",
    "# input rates\n",
    "input_freqs = np.arange(20, 200, 20)\n",
    "\n",
    "duration = 1\n",
    "\n",
    "# result frequency list\n",
    "output_rates = np.zeros((len(w_coarse_values), len(input_freqs)))\n",
    "\n",
    "# get the global neuron ID of the neuron\n",
    "monitored_global_nid = ut.get_global_id(neu_chip_id, neu_core_id, neu_ids)\n",
    "\n",
    "####################### TODO #######################\n",
    "# tune parameters, you may change the params below \n",
    "# and feel free to play with more options\n",
    "# set DC of this core\n",
    "param = dyn1.Dynapse1Parameter(\"IF_DC_P\", 4, 200)\n",
    "model.update_single_parameter(param, neu_chip_id, neu_core_id)\n",
    "# decrease the leak\n",
    "param = dyn1.Dynapse1Parameter(\"IF_TAU1_N\", 3, 40)\n",
    "model.update_single_parameter(param, neu_chip_id, neu_core_id)\n",
    "####################### TODO #######################\n",
    "\n",
    "\n",
    "####################### TODO #######################\n",
    "# build network\n",
    "# init a network generator\n",
    "net_gen = n.NetworkGenerator()\n",
    "spikegen = n.Neuron(schip, score, sid, True)\n",
    "neuron = n.Neuron(neu_chip_id, neu_core_id, neu_ids)\n",
    "\n",
    "# connect spikegen to neuron (only in the network topology not chips for now)\n",
    "net_gen.add_connection(spikegen, neuron, dyn1.Dynapse1SynType.GABA_B)\n",
    "\n",
    "# print the network so you can double check (optional)\n",
    "net_gen.print_network()\n",
    "# make a dynapse1config using the network\n",
    "new_config = net_gen.make_dynapse1_configuration()\n",
    "# apply the configuration\n",
    "model.apply_configuration(new_config)\n",
    "####################### TODO #######################\n",
    "\n",
    "\n",
    "# get fpga_spike_gen\n",
    "fpga_spike_gen = model.get_fpga_spike_gen()\n",
    "\n",
    "\n",
    "####################### TODO #######################\n",
    "# create a graph to monitor the spikes of this neuron\n",
    "graph, filter_node, sink_node = ut.create_neuron_select_graph(model, [(neu_chip_id, neu_core_id, neu_ids)])\n",
    "####################### TODO #######################\n",
    "\n",
    "for i in range(len(w_coarse_values)):\n",
    "    # set weight of GABA_B\n",
    "    param = dyn1.Dynapse1Parameter(\"PS_WEIGHT_INH_S_N\", w_coarse_values[i], w_fine_value)\n",
    "    model.update_single_parameter(param, neu_chip_id, neu_core_id)\n",
    "\n",
    "    for j in range(len(input_freqs)):\n",
    "        # set up FPGA spike gens\n",
    "        # preload the stimulus\n",
    "        spikegen_global_id = ut.get_global_id(schip, score, sid)\n",
    "        sample_duration = 4\n",
    "        # generate spike times\n",
    "        spike_count = input_freqs[j] * sample_duration \n",
    "        spike_times = np.linspace(0, sample_duration, spike_count)\n",
    "        print(spike_count, len(spike_times))\n",
    "        # generate spikegen id list corresponding to spike_times\n",
    "        indices = [spikegen_global_id]*len(spike_times)\n",
    "\n",
    "        # the chips where the post neurons are\n",
    "        target_chips = [neu_chip_id]*len(indices)\n",
    "        isi_base = 900\n",
    "        repeat_mode=False\n",
    "\n",
    "        # set up the fpga_spike_gen\n",
    "        ut.set_fpga_spike_gen(fpga_spike_gen, spike_times, indices, target_chips, isi_base, repeat_mode)\n",
    "\n",
    "        graph.start()\n",
    "        fpga_spike_gen.start()\n",
    "\n",
    "        ####################### TODO #######################\n",
    "        # get events\n",
    "        # clear the output buffer\n",
    "        sink_node.get_events()\n",
    "        # sleep for 1 sec\n",
    "        time.sleep(duration)\n",
    "        # get the events accumulated during the past 1 sec\n",
    "        events = sink_node.get_events()\n",
    "        ####################### TODO #######################\n",
    "\n",
    "        fpga_spike_gen.stop()\n",
    "        graph.stop()\n",
    "\n",
    "        # Accumulate the results\n",
    "        print(len(events))\n",
    "        freq = len(events)/duration\n",
    "        output_rates[i][j] = freq\n",
    "\n",
    "print(output_rates)\n",
    "\n"
   ]
  },
  {
   "cell_type": "code",
   "execution_count": 10,
   "metadata": {},
   "outputs": [
    {
     "data": {
      "image/png": "[encoded data removed]",
      "text/plain": [
       "<Figure size 540x360 with 1 Axes>"
      ]
     },
     "metadata": {
      "image/png": {
       "height": 328,
       "width": 478
      },
      "needs_background": "light"
     },
     "output_type": "display_data"
    }
   ],
   "source": [
    "# inh weights\n",
    "w_coarse_values = np.arange(0, 8, 1)#7\n",
    "\n",
    "w_fine_values = 180#np.arange(0, 9, 3)\n",
    "\n",
    "# input rates\n",
    "input_freqs = np.arange(20, 200, 20)\n",
    "\n",
    "\n",
    "fig = plt.figure()\n",
    "for i in range(len(w_coarse_values)):\n",
    "    out_rates = output_rates[i]\n",
    "    plt.plot(input_freqs, out_rates, \".-\", label = \"w=\"+str(w_coarse_values[i]))\n",
    "plt.xlabel('Input frequency via GABA_B(Hz)')\n",
    "plt.ylabel('Output frequency (Hz)')\n",
    "plt.legend()\n",
    "plt.show()"
   ]
  },
  {
   "cell_type": "code",
   "execution_count": null,
   "metadata": {
    "ExecuteTime": {
     "end_time": "2022-04-04T13:49:38.993793Z",
     "start_time": "2022-04-04T13:49:38.977693Z"
    },
    "pycharm": {
     "name": "#%%\n"
    }
   },
   "outputs": [],
   "source": [
    "config1 = model.get_configuration()\n",
    "\n",
    "print(\"Coarse: \" + str(config1.chips[0].cores[1].parameter_group.param_map['IF_DC_P'].coarse_value))\n",
    "print(\"Fine: \" + str(config1.chips[0].cores[1].parameter_group.param_map['IF_DC_P'].fine_value))"
   ]
  },
  {
   "cell_type": "code",
   "execution_count": 12,
   "metadata": {
    "pycharm": {
     "name": "#%%\n"
    }
   },
   "outputs": [
    {
     "name": "stdout",
     "output_type": "stream",
     "text": [
      "IF_AHTAU_N  Coarse:4    Fine:80\n",
      "IF_AHTHR_N  Coarse:4    Fine:80\n",
      "IF_AHW_P  Coarse:0    Fine:0\n",
      "IF_BUF_P  Coarse:4    Fine:80\n",
      "IF_CASC_N  Coarse:0    Fine:0\n",
      "IF_DC_P  Coarse:6    Fine:30\n",
      "IF_NMDA_N  Coarse:0    Fine:0\n",
      "IF_RFR_N  Coarse:4    Fine:3\n",
      "IF_TAU1_N  Coarse:0    Fine:5\n",
      "IF_TAU2_N  Coarse:0    Fine:100\n",
      "IF_THR_N  Coarse:3    Fine:120\n",
      "NPDPIE_TAU_F_P  Coarse:0    Fine:40\n",
      "NPDPIE_TAU_S_P  Coarse:0    Fine:0\n",
      "NPDPIE_THR_F_P  Coarse:0    Fine:0\n",
      "NPDPIE_THR_S_P  Coarse:0    Fine:40\n",
      "NPDPII_TAU_F_P  Coarse:0    Fine:0\n",
      "NPDPII_TAU_S_P  Coarse:0    Fine:40\n",
      "NPDPII_THR_F_P  Coarse:0    Fine:0\n",
      "NPDPII_THR_S_P  Coarse:0    Fine:0\n",
      "PS_WEIGHT_EXC_F_N  Coarse:0    Fine:0\n",
      "PS_WEIGHT_EXC_S_N  Coarse:0    Fine:0\n",
      "PS_WEIGHT_INH_F_N  Coarse:0    Fine:0\n",
      "PS_WEIGHT_INH_S_N  Coarse:7    Fine:180\n",
      "PULSE_PWLK_P  Coarse:4    Fine:106\n",
      "R2R_P  Coarse:3    Fine:85\n"
     ]
    }
   ],
   "source": [
    "current_config = model.get_configuration()\n",
    "display_model_config(current_config, 0, 1)"
   ]
  },
  {
   "cell_type": "code",
   "execution_count": null,
   "metadata": {},
   "outputs": [],
   "source": []
  },
  {
   "attachments": {},
   "cell_type": "markdown",
   "metadata": {},
   "source": [
    "## Inhibitory Synapses: GABA A & GABA B"
   ]
  },
  {
   "attachments": {},
   "cell_type": "markdown",
   "metadata": {},
   "source": [
    "In this part, we will see the effect of the two types of inhibitory synapses on the neuron:\n",
    "\n",
    "**Step#1**: Inject a DC current into a small population of neurons (e.g 5 neurons) and adjust the neuron time constant to make it fire at about 100 Hz.\n",
    "\n",
    "**Step#2**: Connect a GABA_B synapse to the above neuron population through an FPGA spike generator.\n",
    "\n",
    "**Step#3**: For a given synaptic weight, sweep over the frequency of the provided input, compute the average firing rate of the neuron population.\n",
    "\n",
    "**Step#4**: Change the synaptic weight. Plot the average population response to the change in input frequency and synaptic weight (i.e create a FF trace for each synaptic weight).\n",
    "\n",
    "\n",
    "**Step#5**: Repeat the same steps 1-4 using a GABA_A synapse.\n",
    "\n",
    "---\n",
    "\n",
    "**Question**: What do you observe from these two plots? Can you say something about the different inhibitory effect of those synapses?"
   ]
  },
  {
   "cell_type": "code",
   "execution_count": 29,
   "metadata": {},
   "outputs": [
    {
     "name": "stdout",
     "output_type": "stream",
     "text": [
      "Post neuron (ChipId,coreId,neuronId): incoming connections [(preNeuron,synapseType), ...]\n",
      "C1c1n16: [('C0c0s100', 'GABA_B')]\n",
      "C1c1n15: [('C0c0s100', 'GABA_B')]\n",
      "C1c1n14: [('C0c0s100', 'GABA_B')]\n",
      "\n",
      "Network Build!\n",
      "in:200   w_coarse:0  fine:255  Events Count:126.0\n",
      "in:200   w_coarse:1  fine:255  Events Count:119.0\n",
      "in:200   w_coarse:2  fine:255  Events Count:119.0\n",
      "in:200   w_coarse:3  fine:255  Events Count:118.16666666666667\n",
      "in:200   w_coarse:4  fine:255  Events Count:118.33333333333333\n",
      "in:200   w_coarse:5  fine:255  Events Count:118.16666666666667\n",
      "in:200   w_coarse:6  fine:255  Events Count:118.5\n"
     ]
    }
   ],
   "source": [
    "# set initial (proper) parameters\n",
    "paramGroup = params.gen_clean_param_group()\n",
    "for neu_chip_id in range(4):\n",
    "    for neu_core_id in range(4):\n",
    "        model.update_parameter_group(paramGroup, neu_chip_id, neu_core_id)\n",
    "\n",
    "\n",
    "# select a spike generator\n",
    "schip = 0\n",
    "score = 0\n",
    "sid = [100]\n",
    "\n",
    "# choose a neuron to monitor.\n",
    "neu_chip_id = 1\n",
    "neu_core_id = 1\n",
    "nid = [14,15, 16]\n",
    "\n",
    "\n",
    "# input rates\n",
    "input_freqs = np.arange(200, 300, 100)\n",
    "\n",
    "duration = 2\n",
    "\n",
    "\n",
    "# # get the global neuron ID of the neuron\n",
    "# monitored_global_nid = ut.get_global_id(chip, core, nid)\n",
    "# print(f\"Monitored global nids:{monitored_global_nid}\")\n",
    "\n",
    "####################### TODO #######################\n",
    "# tune parameters, you may change the params below\n",
    "# but feel free to play with more options\n",
    "\n",
    "# inh weights\n",
    "w_coarse_value = np.arange(7)#0 #[7\n",
    "w_fine_values = 255 #50#np.arange(0, 250, 100)\n",
    "\n",
    "# result frequency list\n",
    "# output_rates = np.zeros((len(w_fine_values), len(input_freqs)))\n",
    "output_rates = np.zeros((len(w_coarse_value), len(input_freqs)))\n",
    "\n",
    "# set DC of this core\n",
    "param = dyn1.Dynapse1Parameter(\"IF_DC_P\", 5, 70)\n",
    "model.update_single_parameter(param, neu_chip_id, neu_core_id)\n",
    "\n",
    "# decrease the leak\n",
    "param = dyn1.Dynapse1Parameter(\"IF_TAU1_N\", 4, 80)\n",
    "model.update_single_parameter(param, neu_chip_id, neu_core_id)\n",
    "\n",
    "# # GABA_B, gain: \n",
    "# param = dyn1.Dynapse1Parameter(\"NPDPII_THR_F_P\", 4, 80)\n",
    "# model.update_single_parameter(param, neu_chip_id, neu_core_id)\n",
    "\n",
    "# # GABA_B, time constant\n",
    "# param = dyn1.Dynapse1Parameter(\"NPDPII_TAU_F_P\", 0, 80) \n",
    "# model.update_single_parameter(param, neu_chip_id, neu_core_id)\n",
    "# print(f\"Updated GABA B parameters!\")\n",
    "####################### TODO #######################\n",
    "\n",
    "\n",
    "####################### Build Network #######################\n",
    "# init a network generator\n",
    "net_gen = n.NetworkGenerator()\n",
    "spikegen = n.NeuronGroup(schip, score, sid, True)\n",
    "neuron = n.NeuronGroup(neu_chip_id, neu_core_id, nid)\n",
    "\n",
    "# connect spikegen to neuron (only in the network topology not chips for now)\n",
    "# net_gen.add_connection(spikegen, neuron, dyn1.Dynapse1SynType.GABA_A)\n",
    "syn = n.Synapses(spikegen, neuron, dyn1.Dynapse1SynType.GABA_B, conn_type='all2all')\n",
    "n.add_synapses(net_gen, syn)\n",
    "\n",
    "# print the network so you can double check (optional)\n",
    "print(net_gen.network)\n",
    "\n",
    "# make a dynapse1config using the network\n",
    "new_config = net_gen.make_dynapse1_configuration()\n",
    "# apply the configuration\n",
    "model.apply_configuration(new_config)\n",
    "\n",
    "print(f\"Network Build!\")\n",
    "\n",
    "####################### Get FPGA SpikeGen #######################\n",
    "\n",
    "# get fpga_spike_gen\n",
    "fpga_spike_gen = model.get_fpga_spike_gen()\n",
    "\n",
    "\n",
    "####################### Set Graph #######################\n",
    "# create a graph to monitor the spikes of this neuron\n",
    "graph, filter_node, sink_node = ut.create_neuron_select_graph(model, neuron.tuple_neuron_ids)\n",
    "\n",
    "####################### Loop over weights and input frequency #######################\n",
    "for i in range(len(w_coarse_value)):#(len(w_fine_values)):\n",
    "    # set weight of GABA_B\n",
    "    # param = dyn1.Dynapse1Parameter(\"PS_WEIGHT_INH_F_N\", w_coarse_value, w_fine_values[i])\n",
    "    param = dyn1.Dynapse1Parameter(\"PS_WEIGHT_INH_F_N\", w_coarse_value[i], w_fine_values)\n",
    "\n",
    "    model.update_single_parameter(param, neu_chip_id, neu_core_id)\n",
    "\n",
    "    for j in range(len(input_freqs)):\n",
    "        # -------- set up FPGA spike gens --------\n",
    "        # preload the stimulus\n",
    "        sample_duration = 4\n",
    "\n",
    "        # 1. Generate spike times\n",
    "        spike_count = input_freqs[j] * sample_duration \n",
    "        spike_times = np.linspace(0, sample_duration, spike_count)\n",
    "\n",
    "        # 2. Get global ids of neurons\n",
    "        spikegen_gids = ut.get_global_id_list(spikegen.tuple_neuron_ids)  \n",
    "\n",
    "        # 3. Generate spikegen id list corresponding to spike_times\n",
    "        indices = [spikegen_gids]*len(spike_times)\n",
    "\n",
    "        # 4. Set the chips where the post neurons are\n",
    "        target_chips = [neu_chip_id]*len(indices)\n",
    "        isi_base = 900\n",
    "        repeat_mode=False\n",
    "        # set the input\n",
    "        # poisson_gen = model.get_poisson_gen()\n",
    "\n",
    "       \n",
    "        # Set target chip\n",
    "        # poisson_gen.set_chip_id(neu_chip_id)\n",
    "\n",
    "        rate = 200 # in Hz\n",
    "\n",
    "        # poisson_gen.write_poisson_rate_hz(spikegen_gids[0], rate)\n",
    "\n",
    "        # set up the fpga_spike_gen\n",
    "        ut.set_fpga_spike_gen(fpga_spike_gen, spike_times, indices, target_chips, isi_base, repeat_mode)\n",
    "        # -------- set up FPGA spike gens --------\n",
    "\n",
    "        # Sanity check on the weight\n",
    "\n",
    "        graph.start()\n",
    "        fpga_spike_gen.start()\n",
    "\n",
    "        ####################### TODO #######################\n",
    "        # get events\n",
    "        # Clear buffer\n",
    "        sink_node.get_events()\n",
    "        # sleep for 1 sec\n",
    "        time.sleep(duration)\n",
    "        # get the events accumulated during the past 1 sec\n",
    "        events = sink_node.get_events()\n",
    "        ####################### TODO #######################\n",
    "\n",
    "        fpga_spike_gen.stop()\n",
    "        graph.stop()\n",
    "\n",
    "        # append the frequency to the list\n",
    "        pop_mean_rate = len(events)/duration/len(nid)\n",
    "        output_rates[i][j] = pop_mean_rate\n",
    "        print(f\"in:{input_freqs[j]}   w_coarse:{w_coarse_value[i]}  fine:{w_fine_values}  Events Count:{pop_mean_rate}\")\n"
   ]
  },
  {
   "cell_type": "code",
   "execution_count": 352,
   "metadata": {},
   "outputs": [
    {
     "data": {
      "text/html": [
       "<div>\n",
       "<style scoped>\n",
       "    .dataframe tbody tr th:only-of-type {\n",
       "        vertical-align: middle;\n",
       "    }\n",
       "\n",
       "    .dataframe tbody tr th {\n",
       "        vertical-align: top;\n",
       "    }\n",
       "\n",
       "    .dataframe thead th {\n",
       "        text-align: right;\n",
       "    }\n",
       "</style>\n",
       "<table border=\"1\" class=\"dataframe\">\n",
       "  <thead>\n",
       "    <tr style=\"text-align: right;\">\n",
       "      <th></th>\n",
       "      <th>0</th>\n",
       "      <th>1</th>\n",
       "      <th>2</th>\n",
       "      <th>3</th>\n",
       "      <th>4</th>\n",
       "      <th>5</th>\n",
       "      <th>6</th>\n",
       "    </tr>\n",
       "  </thead>\n",
       "  <tbody>\n",
       "    <tr>\n",
       "      <th>0</th>\n",
       "      <td>94.333333</td>\n",
       "      <td>94.833333</td>\n",
       "      <td>94.166667</td>\n",
       "      <td>94.166667</td>\n",
       "      <td>94.0</td>\n",
       "      <td>94.166667</td>\n",
       "      <td>94.166667</td>\n",
       "    </tr>\n",
       "  </tbody>\n",
       "</table>\n",
       "</div>"
      ],
      "text/plain": [
       "           0          1          2          3     4          5          6\n",
       "0  94.333333  94.833333  94.166667  94.166667  94.0  94.166667  94.166667"
      ]
     },
     "execution_count": 352,
     "metadata": {},
     "output_type": "execute_result"
    }
   ],
   "source": [
    "output_rates.shape, input_freqs.shape, w_fine_values, w_coarse_value\n",
    "# Prepare the data in df\n",
    "\n",
    "gaba_a_df = pd.DataFrame(output_rates.T,columns=w_coarse_value)\n",
    "# gaba_a_df.index = input_freqs\n",
    "gaba_a_df"
   ]
  },
  {
   "cell_type": "code",
   "execution_count": 334,
   "metadata": {},
   "outputs": [
    {
     "data": {
      "text/plain": [
       "array([[114.66666667, 114.66666667, 114.83333333]])"
      ]
     },
     "execution_count": 334,
     "metadata": {},
     "output_type": "execute_result"
    }
   ],
   "source": [
    "output_rates"
   ]
  },
  {
   "cell_type": "code",
   "execution_count": 333,
   "metadata": {},
   "outputs": [
    {
     "data": {
      "text/plain": [
       "Text(0.5, 1.0, 'GABA A')"
      ]
     },
     "execution_count": 333,
     "metadata": {},
     "output_type": "execute_result"
    },
    {
     "data": {
      "image/png": "[encoded data removed]",
      "text/plain": [
       "<Figure size 900x270 with 1 Axes>"
      ]
     },
     "metadata": {
      "image/png": {
       "height": 278,
       "width": 792
      },
      "needs_background": "light"
     },
     "output_type": "display_data"
    }
   ],
   "source": [
    "fig  = plt.figure(figsize=(10,3))\n",
    "ax = fig.add_subplot(1,1,1)\n",
    "\n",
    "for i in range(len(w_coarse_value)):\n",
    "    # gaba_a_df.plot(y=w_fine, kind='line', ax =ax, label=f\"w_fine:{w_fine}\")\n",
    "\n",
    "    ax.plot(input_freqs, output_rates[i], label= f\"w_coarse={w_coarse_value[i]}\")\n",
    "plt.legend(ncol=5)\n",
    "plt.xlabel('Input frequency [Hz]')\n",
    "plt.ylabel('Output frequency')\n",
    "plt.title(\"GABA A\")"
   ]
  },
  {
   "cell_type": "code",
   "execution_count": null,
   "metadata": {},
   "outputs": [],
   "source": [
    "# # close Dynapse1\n",
    "# ut.close_dynapse1(store, device_name)"
   ]
  }
 ],
 "metadata": {
  "kernelspec": {
   "display_name": "Python 3",
   "language": "python",
   "name": "python3"
  },
  "language_info": {
   "codemirror_mode": {
    "name": "ipython",
    "version": 3
   },
   "file_extension": ".py",
   "mimetype": "text/x-python",
   "name": "python",
   "nbconvert_exporter": "python",
   "pygments_lexer": "ipython3",
   "version": "3.8.10"
  },
  "toc": {
   "base_numbering": 1,
   "nav_menu": {},
   "number_sections": true,
   "sideBar": true,
   "skip_h1_title": false,
   "title_cell": "Table of Contents",
   "title_sidebar": "Contents",
   "toc_cell": true,
   "toc_position": {
    "height": "calc(100% - 180px)",
    "left": "10px",
    "top": "150px",
    "width": "165px"
   },
   "toc_section_display": true,
   "toc_window_display": true
  }
 },
 "nbformat": 4,
 "nbformat_minor": 4
}
